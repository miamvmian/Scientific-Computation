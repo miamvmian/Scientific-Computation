{
  "nbformat": 4,
  "nbformat_minor": 0,
  "metadata": {
    "kernelspec": {
      "display_name": "Python 3",
      "language": "python",
      "name": "python3"
    },
    "language_info": {
      "codemirror_mode": {
        "name": "ipython",
        "version": 3
      },
      "file_extension": ".py",
      "mimetype": "text/x-python",
      "name": "python",
      "nbconvert_exporter": "python",
      "pygments_lexer": "ipython3",
      "version": "3.7.3"
    },
    "colab": {
      "provenance": [],
      "include_colab_link": true
    }
  },
  "cells": [
    {
      "cell_type": "markdown",
      "metadata": {
        "id": "view-in-github",
        "colab_type": "text"
      },
      "source": [
        "<a href=\"https://colab.research.google.com/github/miamvmian/Scientific-Computation/blob/main/SciComp2024_HW1_ipynb_sol_backup.ipynb\" target=\"_parent\"><img src=\"https://colab.research.google.com/assets/colab-badge.svg\" alt=\"Open In Colab\"/></a>"
      ]
    },
    {
      "cell_type": "markdown",
      "metadata": {
        "id": "O5DIRljFBbll"
      },
      "source": [
        "## Scientific Computing 2024: Homework Assignment 1\n",
        "Due Sunday October 13, 2024, 23:59\n",
        "\n",
        "### Problem 1 (2 points)\n",
        "Under assumptions of Amdahl's law, suppose that 75% of a program are perfectly parallelizable, and the rest is not parallelizable.\n",
        "1. What is the maximum speedup achievable by parallelization?\n",
        "\n",
        "$$S=\\frac{1}{\\frac{3}{4n}+\\frac{1}{4}}=\\frac{4n}{n+3}$$ where $n$ is the number of cores for parallel computing.\n",
        "\n",
        "2. Suppose that we have obtained speedup 2 (by using a suitable number of processes). What is the efficiency of this parallelization?\n",
        "$$S=\\frac{4n}{n+3}=2$$the number of computation cores is $n=3$, so the efficiency of the parallelization is:\n",
        "$$E=\\frac{S}{n}=\\frac{2}{3}≈67\\%$$\n"
      ]
    },
    {
      "cell_type": "markdown",
      "source": [
        "### Problem 2 (2 points)\n",
        "Write a Python or C/C++ program that uses **MPI reduce** to find the largest file in terms of the  number of lines among all .txt files in the working directory (only .txt files should be examined). The program must be callable in the form `mpirun -np <N> python linecount.py` (in the case of the Python version) or `mpirun -np <N> linecount.exe` (the C/C++ version), where `<N>` is the user-defined number of processes. The program is expected to first somehow distribute the files found in the current directory to the processes, then each process should count the lines in the files assigned to it, and finally the result should be MPI-reduced and printed out. The program only needs to output **the number of lines in the largest file**; no need to output the name of this file. The program must work correctly even if the number of files is not divisible by the number of processes.\n",
        "\n",
        "\n",
        "\n"
      ],
      "metadata": {
        "id": "eKyTXZuqS_u1"
      }
    },
    {
      "cell_type": "code",
      "source": [
        "!pip install mpi4py"
      ],
      "metadata": {
        "id": "ruNQwQhttmf1"
      },
      "execution_count": null,
      "outputs": []
    },
    {
      "cell_type": "code",
      "source": [
        "# create random txt files\n",
        "\n",
        "import os\n",
        "import random\n",
        "import string\n",
        "from pathlib import Path\n",
        "\n",
        "\n",
        "def generate_random_string(length: int=10) -> str:\n",
        "    \"\"\"Generate a random string of fixed length.\"\"\"\n",
        "    letters = string.ascii_letters + string.digits\n",
        "    return ''.join(random.choice(letters) for _ in range(length))\n",
        "\n",
        "\n",
        "def create_random_files(num_files: int, min_lines: int, max_lines: int, output_dir: Path)->None:\n",
        "    \"\"\"Create a specified number of text files with random lines.\"\"\"\n",
        "    # Create output directory if it doesn't exist\n",
        "    work_path = Path.cwd()\n",
        "    folder = Path.cwd()/output_dir\n",
        "    if not folder.exists():\n",
        "        os.makedirs(work_path/output_dir)\n",
        "\n",
        "    for i in range(num_files):\n",
        "        # Generate a random number of lines\n",
        "        num_lines = random.randint(min_lines, max_lines)\n",
        "\n",
        "        # Create a filename\n",
        "        filename = f\"file_{i + 1}_{num_lines}.txt\"\n",
        "        filepath = folder/filename\n",
        "\n",
        "        with open(filepath, 'w') as f:\n",
        "            for _ in range(num_lines):\n",
        "                # Write a random string as a line\n",
        "                line = generate_random_string(random.randint(10, 30))  # Random length between 5 and 20\n",
        "                f.write(line + '\\n')\n",
        "\n",
        "        print(f\"Created {filepath} with {num_lines} lines.\")\n",
        "\n",
        "\n",
        "# Parameters\n",
        "num_files = random.randint(100, 200)  # Random number of files between 1 and 10\n",
        "min_lines = 1  # Minimum lines per file\n",
        "max_lines = 2500  # Maximum lines per file\n",
        "output_directory = 'random_files'  # Output directory\n",
        "\n",
        "# Create the files\n",
        "create_random_files(num_files, min_lines, max_lines, output_directory)"
      ],
      "metadata": {
        "id": "YaMP-FQzQnds"
      },
      "execution_count": null,
      "outputs": []
    },
    {
      "cell_type": "code",
      "source": [
        "# linecount.py\n",
        "from pathlib import Path\n",
        "from typing import TypeVar, Iterable\n",
        "from mpi4py import MPI\n",
        "import sys\n",
        "import numpy as np\n",
        "\n",
        "PathLike = TypeVar(\"PathLike\", str, Path)\n",
        "\n",
        "comm = MPI.COMM_WORLD\n",
        "rank = comm.Get_rank()\n",
        "n_cores = comm.Get_size()\n",
        "\n",
        "# count the number of lines\n",
        "def count_lines(file_name: Path)->int:\n",
        "  with open(file_name, \"rb\") as f:\n",
        "      num_lines = sum(1 for _ in f)\n",
        "      return num_lines\n",
        "\n",
        "if rank == 0:\n",
        "  folder = \"random_files\"\n",
        "  # search files ending with \".txt\"\n",
        "  def search_txt(path: PathLike|str = None) -> Iterable:\n",
        "      work_path = Path.cwd()\n",
        "      work_dirs = work_path.parts\n",
        "      if path is not None:\n",
        "          dirs = Path(path).parts\n",
        "          if dirs[0] not in work_dirs:\n",
        "              data_path = work_path / path\n",
        "          else:\n",
        "              indx = work_dirs.index(dirs[0])\n",
        "              data_path = Path(*work_dirs[0:indx], *dirs)\n",
        "      else:\n",
        "          data_path = work_path\n",
        "\n",
        "      for full_path in data_path.iterdir():\n",
        "          name = full_path.name\n",
        "          if name.endswith('.txt'):\n",
        "              yield full_path\n",
        "\n",
        "  file_names = list(search_txt(folder))\n",
        "else:\n",
        "  file_names = None\n",
        "\n",
        "file_names = comm.bcast(file_names, root=0)\n",
        "\n",
        "tot_task = len(file_names)\n",
        "tasks_perCore = tot_task//n_cores\n",
        "res_tasks = tot_task%n_cores\n",
        "file_name = file_names[tasks_perCore*rank:tasks_perCore*(rank+1)]\n",
        "\n",
        "if res_tasks and rank<=res_tasks-1:\n",
        "  file_res = file_names[tasks_perCore*n_cores:]\n",
        "  file_name.append(file_res[rank])\n",
        "\n",
        "local_max =  np.zeros(1, dtype=int)\n",
        "glob_max = np.zeros(1, dtype=int)\n",
        "for fi in file_name:\n",
        "  num_line = count_lines(fi)\n",
        "  if num_line>local_max:\n",
        "    local_max[0] = num_line\n",
        "\n",
        "comm.Reduce(local_max, glob_max, op=MPI.MAX, root=0)\n",
        "\n",
        "if rank == 0:\n",
        "  print(f\"The number of lines in the largest file is {glob_max[0]}\")\n"
      ],
      "metadata": {
        "id": "uLkHoflQuoVk"
      },
      "execution_count": null,
      "outputs": []
    },
    {
      "cell_type": "code",
      "source": [
        "!sudo mpirun --allow-run-as-root --oversubscribe -np 8 python linecount.py"
      ],
      "metadata": {
        "colab": {
          "base_uri": "https://localhost:8080/"
        },
        "id": "k2JJbihI1nN8",
        "outputId": "a448eed7-8c3a-49f0-abf2-25cfc3ea8d2b"
      },
      "execution_count": 77,
      "outputs": [
        {
          "output_type": "stream",
          "name": "stdout",
          "text": [
            "The maximum line number is: 2442\n"
          ]
        }
      ]
    },
    {
      "cell_type": "markdown",
      "source": [
        "\n",
        "\n",
        "### Problem 3 (2 points)\n",
        "Solve the Distinct Substrings problem at Sphere online judge: http://www.spoj.com/problems/DISUBSTR/. Provide code passing the test of the judge. Explain how your code works and theoretically estimate the complexity of the algorithm (as $O(f(N))$, where $f(N)$ is some function of the length of the input string).\n",
        "\n",
        "### Problem 4 (2 points)\n",
        "Suppose that we want to distribute $N$ personal projects to $N$ students. Assume that each student $(k)_{k=0}^{N-1}$ has a list of his/her preferences for the projects, expressed as a vector $\\mathbf r_k$ of integer ranks assigned to each project. Ranks vary between 0 and $N-1$ without repetitions, the **lower** the rank the **more preferable** the project. (For example, the first student's ranks are $\\mathbf r_0 = [2,1,0]$, the second's $\\mathbf r_1 = [0,2,1]$ and the third $\\mathbf r_2 = [0,1,2]$). We want to distribute the projects so as to maximize the total preference, i.e., if $n_k$ denotes the project assigned to the $k$'th student, we want to make $f = \\sum_{k=0}^{N-1} \\mathbf r_k[n_k]$ as small as possible. (In the example above the optimal distribution is $n_0=2, n_1=0, n_2=1$, which gives $f=1$).  \n",
        "  * Come up with an algorithm optimizing the distribution and implement it in a Python or C/C++ program. The algorithm should accept the preference vectors and output a recommended distribution $(n_k)_{k=1}^N$. The algorithm need not find the best solution, but is expected to generally produce better solutions than would have been obtained by randomly distributing the projects. The algorithm should be reasonably fast, say run in not more than a few seconds for $N=30$.\n",
        "  * Compare experimentally your algorithm with the trivial algorithm producing a random distribution. To this end, perform $M=1000$ experiments in each of which 1) random preference vectors for $N=30$ students and projects are generated; 2) the objective function $f$ is evaluated for both algorithms. After finishing all the experiments, plot the two respective distributions of the obtained $M$ values of $f$ and compute the mean values of $f$ for both algorithms.\n",
        "  \n",
        "### Problem 5 (2 points)\n",
        "Suppose that we have developed an algorithm that is supposed to generate independent (quasi-)random numbers uniformly distributed in the interval $[0,1]$. To test our algorithm, we perform a series of experiments. In each experiment, we generate $N=10^3$ numbers $(x_n)_{n=1}^N$ with our algorithm, and compute the minimum distance $r=\\min_{1 \\le n < m\\le N}|x_n-x_m|$ between them. We observe that in more than 99% of such experiments we obtain $r < 10^{-5}$. Does this observation contradict the hypothesis of generating independent uniformly distributed random numbers? Explain your answer."
      ],
      "metadata": {
        "id": "wT9tnNA4TEk_"
      }
    },
    {
      "cell_type": "code",
      "source": [],
      "metadata": {
        "id": "7nxSF286TFAT"
      },
      "execution_count": null,
      "outputs": []
    }
  ]
}
