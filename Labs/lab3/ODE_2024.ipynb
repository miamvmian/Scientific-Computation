{
  "cells": [
    {
      "cell_type": "code",
      "execution_count": null,
      "metadata": {
        "id": "mxLe_QCMh8Q-"
      },
      "outputs": [],
      "source": [
        "import numpy as np\n",
        "import matplotlib.pyplot as plt\n",
        "import matplotlib.animation as animation"
      ]
    },
    {
      "cell_type": "markdown",
      "metadata": {
        "id": "HUCoOBvFh8RG"
      },
      "source": [
        "## Example: a pendulum\n",
        "Consider a mathematical pendulum and denote by $\\alpha$ the angle it forms with the vertical axis. Suppose that the length $l=1$ and the gravity acceleration $g=1$. Then the dynamics of the pendulum is described by the equation\n",
        "\n",
        "$$\\ddot{\\alpha}=-\\sin \\alpha.$$\n",
        "\n",
        "Denoting $v=\\dot \\alpha$, rewrite as a first-order system $\\dot{X}=f(X)$, where $X = {\\alpha\\choose v}$:\n",
        "\n",
        "$$\\frac{d}{dt}{\\alpha\\choose v}={v\\choose -\\sin \\alpha}.$$\n",
        "\n",
        "## Euler method\n",
        "Approximate solution for $\\dot{X}=f(X)$.\n",
        "\n",
        "Denote by $\\tilde{X}_n$ the approximate solution at time $t_0+n\\Delta t$, with $n$ integer. Then\n",
        "\n",
        "$$\\tilde{X}_{n+1}=\\tilde{X}_n+f(\\tilde X_n)\\Delta t, \\quad n=0,1,\\ldots$$"
      ]
    },
    {
      "cell_type": "code",
      "execution_count": null,
      "metadata": {
        "id": "4JyINvZfh8RI"
      },
      "outputs": [],
      "source": [
        "%matplotlib inline\n",
        "# The RHS of the ODE\n",
        "def f(X):               # X = np.array([alpha,v])\n",
        "    return np.array([X[1], -np.sin(X[0])])\n",
        "\n",
        "\n",
        "# The solver\n",
        "def Euler(f,\n",
        "          X0,         # the initial condition [alpha0, v0]\n",
        "          dt=1e-3,\n",
        "          N=10000     # number of steps\n",
        "         ):\n",
        "    X = np.array(X0)\n",
        "    alphaHistory = [X[0]]\n",
        "    vHistory = [X[1]]\n",
        "    tHistory = [0]\n",
        "    for n in range(N):\n",
        "        X += dt*f(X)\n",
        "        alphaHistory.append(X[0])\n",
        "        vHistory.append(X[1])\n",
        "        tHistory.append(dt*(n+1))\n",
        "\n",
        "    return alphaHistory, vHistory, tHistory\n",
        "\n",
        "# Solution for several different initial conditions\n",
        "alpha0 = 1.\n",
        "for m in range(7):\n",
        "    v0 = 0.5*m\n",
        "    alphaHistory, vHistory, _ = Euler(f, [alpha0, v0])\n",
        "    plt.plot(alphaHistory, vHistory, label='v0='+str(v0))\n",
        "plt.xlabel('$\\\\alpha$')\n",
        "plt.ylabel('v')\n",
        "plt.legend(loc='best')\n",
        "plt.show()"
      ]
    },
    {
      "cell_type": "code",
      "execution_count": null,
      "metadata": {
        "id": "G1srnWgPh8RJ"
      },
      "outputs": [],
      "source": [
        "%matplotlib auto\n",
        "\n",
        "#for colab\n",
        "from matplotlib import animation, rc\n",
        "rc('animation', html='jshtml')\n",
        "\n",
        "alpha0 = 1.\n",
        "v0 = 1.7\n",
        "\n",
        "alphaHistory, vHistory, tHistory = Euler(f, [alpha0, v0], dt=1e-3, N=20000)\n",
        "\n",
        "fig = plt.figure(figsize=(5,5))\n",
        "ax = plt.axes(xlim=(-1.2, 1.2), ylim=(-1.2, 1.2), )\n",
        "plt.xlabel('x')\n",
        "plt.ylabel('y')\n",
        "\n",
        "line, = plt.plot([0, np.sin(alphaHistory[0])],\n",
        "                 [0, -np.cos(alphaHistory[0])], '-ob')\n",
        "\n",
        "\n",
        "title = plt.title('')\n",
        "\n",
        "skip = 50\n",
        "\n",
        "def animate(i):\n",
        "    line.set_data([0, np.sin(alphaHistory[::skip][i])], [0, -np.cos(alphaHistory[::skip][i])])\n",
        "    title.set_text(\"t = %2.3f\" %(tHistory[::skip][i]))\n",
        "\n",
        "\n",
        "anim = animation.FuncAnimation(fig, animate, len(tHistory[::skip]),\n",
        "    interval=1)\n",
        "\n",
        "# for local notebook\n",
        "#plt.show()\n",
        "\n",
        "# for colab\n",
        "plt.close()\n",
        "anim"
      ]
    },
    {
      "cell_type": "markdown",
      "metadata": {
        "id": "0r_TBYygh8RO"
      },
      "source": [
        "**Exercise:** Show that, assuming a smooth $f$, Euler method has global convergence of order 1 (i.e., $$\\max_{n: t_n\\in[t_0, T]}|\\tilde{X}_n-{X}_n|=O(\\Delta t)$$\n",
        "for a fixed finite $T$).\n",
        "\n",
        "**Example:** Errors at $\\Delta t = 10^{-1}, 10^{-2}, 10^{-3}$"
      ]
    },
    {
      "cell_type": "code",
      "execution_count": null,
      "metadata": {
        "id": "e3FfFYZ8h8RP"
      },
      "outputs": [],
      "source": [
        "%matplotlib inline\n",
        "for m in range(1,4):\n",
        "    dt = 10**(-m)\n",
        "    alphaHistory, vHistory,_ = Euler(f, [1., 1.], dt=dt, N=int(10./dt))\n",
        "    plt.plot(alphaHistory, vHistory, label='$\\Delta t=$ %e' %dt )\n",
        "plt.xlabel('$\\\\alpha$')\n",
        "plt.ylabel('v')\n",
        "plt.legend(loc='best')\n",
        "plt.show()"
      ]
    },
    {
      "cell_type": "markdown",
      "metadata": {
        "id": "4xfqVTmWh8RP"
      },
      "source": [
        "Energy (constant of motion):\n",
        "\n",
        "$$E=\\frac{\\dot \\alpha^2}{2}-\\cos \\alpha$$\n",
        "\n",
        "$$\\quad \\frac{dE}{dt}=0$$\n",
        "\n",
        "In the simulation, the energy diverges with time:"
      ]
    },
    {
      "cell_type": "code",
      "execution_count": null,
      "metadata": {
        "id": "sjZVMTojh8RQ"
      },
      "outputs": [],
      "source": [
        "def E(X):\n",
        "    return X[1]*X[1]/2-np.cos(X[0])\n",
        "\n",
        "for m in range(1,5):\n",
        "    dt = 10**(-m)\n",
        "    alphaHistory, vHistory, tHistory = Euler(f, [1., 1.], dt=dt, N=int(10./dt))\n",
        "    Ehistory = [E([alphaHistory[n], vHistory[n]]) for n in range(len(alphaHistory))]\n",
        "    plt.plot(tHistory, Ehistory, label='$\\Delta t=$ 1e-%d' %m )\n",
        "    print ('Error in E at dt=%e: %e' %(dt, np.abs(Ehistory[-1]-Ehistory[0])))\n",
        "plt.xlabel('t')\n",
        "plt.ylabel('E')\n",
        "plt.legend(loc='best')\n",
        "plt.show()"
      ]
    },
    {
      "cell_type": "markdown",
      "metadata": {
        "id": "3tD4LWOQh8RT"
      },
      "source": [
        "## Leapfrog and Velocity Verlet\n",
        "\n",
        "A nice exposition: https://young.physics.ucsc.edu/115/leapfrog.pdf\n",
        "\n",
        "To solve:\n",
        "$$\\frac{d}{dt}{x\\choose v}={v\\choose f_1(x)}.$$\n",
        "\n",
        "### Leapfrog\n",
        "Denote by index $n$ the values at time $n\\Delta t$, with $n$ integer or half-integer. Then we define\n",
        "\n",
        "$$\\left\\{\\begin{align}\n",
        "\\tilde x_{n+1} &= \\tilde x_{n}+\\tilde v_{n+1/2}\\Delta t,\\\\\n",
        "\\tilde v_{n+1/2} &= \\tilde v_{n-1/2}+f_1(\\tilde x_n)\\Delta t.\n",
        "\\end{align}\\right.\\tag{Leapfrog}$$\n",
        "\n",
        "**Initial condition:** Given the initial synchronous data $(x_0, v_0)$, the starting point for Leapfrog can be defined by\n",
        "\n",
        "$$\\left\\{\\begin{align}\n",
        "\\tilde x_{0} &= x_{0},\\\\\n",
        "\\tilde v_{1/2} &= v_0+\\tfrac{1}{2}f_1(x_0)\\Delta t.\n",
        "\\end{align}\\right.$$\n",
        "\n",
        "**Exercise:** Show that Leapfrog's global convergence is $O((\\Delta t)^2).$\n",
        "\n",
        "### Velocity Verlet\n",
        "\n",
        "We can modify Leapfrog by decomposing the step\n",
        "\\begin{align}\n",
        "\\tilde v_{n+1/2} &= \\tilde v_{n-1/2}+f_1(\\tilde x_n)\\Delta t\n",
        "\\end{align}\n",
        "into two steps\n",
        "\\begin{align}\n",
        "\\tilde v_{n} &= \\tilde v_{n-1/2}+\\tfrac{1}{2}f_1(\\tilde x_n)\\Delta t,\\\\\n",
        "\\tilde v_{n+1/2} &= \\tilde v_{n}+\\tfrac{1}{2}f_1(\\tilde x_n)\\Delta t\n",
        "\\end{align}\n",
        "\n",
        "(or equivalently, we simply define $\\tilde v_{n}=\\tfrac{1}{2}(\\tilde v_{n-1/2}+\\tilde v_{n+1/2})$).\n",
        "\n",
        "\n",
        "This gives an equivalent algorithm producing **synchronous** values $\\tilde x_n,\\tilde v_n$:\n",
        "\n",
        "\n",
        "$$\\left\\{\\begin{align}\n",
        "\\tilde v_{n+1/2} &= \\tilde v_{n}+\\frac{1}{2}f_1(\\tilde x_n)\\Delta t\\\\\n",
        "\\tilde x_{n+1} &= \\tilde x_{n}+\\tilde v_{n+1/2}\\Delta t\\\\\n",
        "\\tilde v_{n+1} &= \\tilde v_{n+1/2}+\\frac{1}{2}f_1(\\tilde x_{n+1})\\Delta t\n",
        "\\end{align}\\right.\\tag{velocity Verlet}$$\n",
        "\n",
        "**Exercise:** Check that the global covergence order of **velocity Verlet** is also 2.\n",
        "\n",
        "\n"
      ]
    },
    {
      "cell_type": "code",
      "execution_count": null,
      "metadata": {
        "id": "n8cNtwZwh8RU"
      },
      "outputs": [],
      "source": [
        "def f1(x):\n",
        "    return - np.sin(x)\n",
        "\n",
        "def Leapfrog(f1, x0, v0, dt=1e-3, N=10000):\n",
        "    xHistory = [x0] # at integer times\n",
        "    vHistory_ = [v0+dt/2.*f1(x0)] # at half-integer times\n",
        "    tHistory = [0]\n",
        "    for n in range(N):\n",
        "        xHistory.append(xHistory[-1]+dt*vHistory_[-1])\n",
        "        vHistory_.append(vHistory_[-1]+dt*f1(xHistory[-1]))\n",
        "        tHistory.append(dt*(n+1))\n",
        "    # define vHistory for integer times\n",
        "    vHistory = [v0]+[(vHistory_[n]+vHistory_[n+1])/2. for n in range(len(vHistory_)-1)]\n",
        "    assert len(xHistory) == len(vHistory)\n",
        "    return xHistory, vHistory, tHistory\n",
        "\n",
        "\n",
        "for m in range(0,4):\n",
        "    dt = 10**(-m)\n",
        "    xHistory, vHistory,_ = Leapfrog(f1, 1., 1., dt=dt, N=int(10./dt))\n",
        "    plt.plot(xHistory, vHistory, label='$\\Delta t=$ %e' %dt )\n",
        "plt.xlabel('x')\n",
        "plt.ylabel('v')\n",
        "plt.legend(loc='best')\n",
        "plt.show()"
      ]
    },
    {
      "cell_type": "code",
      "execution_count": null,
      "metadata": {
        "id": "9xeGSgbWh8RW"
      },
      "outputs": [],
      "source": [
        "for m in range(0,5):\n",
        "    dt = 10**(-m)\n",
        "    xHistory, vHistory, tHistory = Leapfrog(f1, 1., 1., dt=dt, N=int(10./dt))\n",
        "    Ehistory = [E([xHistory[n], vHistory[n]]) for n in range(len(xHistory))]\n",
        "    plt.plot(tHistory, Ehistory, label='$\\Delta t=$ %e' %dt )\n",
        "    print ('Error in E at dt=%e: %e' %(dt, np.abs(Ehistory[-1]-Ehistory[0])))\n",
        "plt.xlabel('t')\n",
        "plt.ylabel('E')\n",
        "plt.legend(loc='best')\n",
        "plt.show()"
      ]
    },
    {
      "cell_type": "markdown",
      "metadata": {
        "id": "-YVo40V5h8RX"
      },
      "source": [
        "\n",
        "\n",
        "### Two gravitating bodies\n",
        "\n",
        "$$\\ddot{\\mathbf{x}}_1=\\frac{m_2(\\mathbf{x}_2-\\mathbf{x}_1)}{|\\mathbf{x}_1-\\mathbf{x}_2|^3}, \\quad \\ddot{\\mathbf{x}}_2=\\frac{m_1(\\mathbf{x}_1-\\mathbf{x}_2)}{|\\mathbf{x}_1-\\mathbf{x}_2|^3}$$"
      ]
    },
    {
      "cell_type": "code",
      "execution_count": null,
      "metadata": {
        "id": "5XjNED0Yh8RX"
      },
      "outputs": [],
      "source": [
        "#%matplotlib auto\n",
        "%matplotlib inline\n",
        "\n",
        "# initial conditions\n",
        "M = [1,10] # masses\n",
        "x0 = 1+0*1j\n",
        "x = [M[1]*x0, -M[0]*x0]\n",
        "v0 = 1e-1*(0.6+1j)\n",
        "v = [M[1]*v0, -M[0]*v0]\n",
        "\n",
        "\n",
        "def F(a, b, M_b):   # acceleration due to Newton's gravity\n",
        "    return M_b*(b-a)/np.abs(b-a)**3\n",
        "\n",
        "def integrate(F, x, v, M, dt, N):\n",
        "\n",
        "    def F_all(x):\n",
        "        allF = np.zeros_like(x)\n",
        "        for n in range(len(x)):\n",
        "            for m in range(len(x)):\n",
        "                if m != n:\n",
        "                    allF[n] += F(x[n], x[m], M[m])\n",
        "        return allF\n",
        "\n",
        "    xHistory = [np.array(x)] # at integer times\n",
        "    vHistory_ = [np.array(v)+dt/2.*F_all(x)] # at half-integer times\n",
        "    for n in range(N):\n",
        "        xHistory.append(xHistory[-1]+dt*vHistory_[-1])\n",
        "        vHistory_.append(vHistory_[-1]+dt*F_all(xHistory[-1]))\n",
        "    vHistory = [np.array(v)]+[(vHistory_[n]+vHistory_[n+1])/2. for n in range(len(vHistory_)-1)]\n",
        "    assert len(xHistory) == len(vHistory)\n",
        "    return xHistory, vHistory\n",
        "\n",
        "m = 0.1\n",
        "dt = 10**(-m)\n",
        "T = 500.\n",
        "xHistory, vHistory = integrate(F, x, v, M, dt=dt, N=int(T/dt))\n",
        "tHistory = dt*np.arange(len(xHistory))\n",
        "\n",
        "fig, ax = plt.subplots()\n",
        "\n",
        "# trajectories\n",
        "for n in range(2):\n",
        "    plt.plot([x.real[n] for x in xHistory], [x.imag[n] for x in xHistory], ':')\n",
        "\n",
        "# animated dots\n",
        "dots, = plt.plot(xHistory[0].real, xHistory[0].imag, 'ob')\n",
        "\n",
        "title = plt.title('')\n",
        "\n",
        "def animate(i): # update the data\n",
        "    dots.set_xdata([xHistory[i].real])\n",
        "    dots.set_ydata([xHistory[i].imag])\n",
        "    title.set_text(\"t = %2.3f\" %(tHistory[i]))\n",
        "\n",
        "anim = animation.FuncAnimation(fig, animate, len(tHistory),\n",
        "    interval=2)\n",
        "\n",
        "plt.xlabel('x')\n",
        "plt.ylabel('y')\n",
        "plt.axis('equal')\n",
        "#plt.show()\n",
        "\n",
        "# for colab\n",
        "plt.close()\n",
        "anim"
      ]
    },
    {
      "cell_type": "markdown",
      "metadata": {
        "id": "67HlLx5Wh8RY"
      },
      "source": [
        "### Planar periodic 3-body motion under gravitational attraction (\"celestial choreography\")\n",
        "(from the paper A. Chenciner, R. Montgomery, A remarkable periodic solution of the three-body problem in the case of equal masses, Annals of Mathematics, 152 (2000), 881-901.)"
      ]
    },
    {
      "cell_type": "code",
      "execution_count": null,
      "metadata": {
        "id": "xMzY7pmth8RZ"
      },
      "outputs": [],
      "source": [
        "# special initial conditions ensuring the periodic motion\n",
        "r0 = 0.97000436-0.24308753*1j\n",
        "x = [r0, -r0, 0]\n",
        "#v0 = -0.93240737-0.86473146*1j    # periodic\n",
        "v0 = -0.9-0.8*1j     # aperiodic\n",
        "v = [-v0/2, -v0/2, v0]\n",
        "\n",
        "\n",
        "def F(a, b):   # Newton's gravity\n",
        "    return (b-a)/np.abs(b-a)**3\n",
        "\n",
        "def integrate(F, x, v, dt, N):\n",
        "\n",
        "    def F_all(x):\n",
        "        allF = np.zeros_like(x)\n",
        "        for n in range(len(x)):\n",
        "            for m in range(len(x)):\n",
        "                if m != n:\n",
        "                    allF[n] += F(x[n], x[m])\n",
        "        return allF\n",
        "\n",
        "    xHistory = [np.array(x)] # at integer times\n",
        "    vHistory_ = [np.array(v)+dt/2.*F_all(x)] # at half-integer times\n",
        "    for n in range(N):\n",
        "        xHistory.append(xHistory[-1]+dt*vHistory_[-1])\n",
        "        vHistory_.append(vHistory_[-1]+dt*F_all(xHistory[-1]))\n",
        "    vHistory = [np.array(v)]+[(vHistory_[n]+vHistory_[n+1])/2. for n in range(len(vHistory_)-1)]\n",
        "    assert len(xHistory) == len(vHistory)\n",
        "    return xHistory, vHistory\n",
        "\n",
        "m = 2\n",
        "dt = 10**(-m)\n",
        "xHistory, vHistory = integrate(F, x, v, dt=dt, N=int(5./dt))\n",
        "tHistory = dt*np.arange(len(xHistory))\n",
        "\n",
        "#%matplotlib auto\n",
        "%matplotlib inline\n",
        "\n",
        "fig, ax = plt.subplots()\n",
        "\n",
        "# trajectories\n",
        "for n in range(3):\n",
        "    plt.plot([x.real[n] for x in xHistory], [x.imag[n] for x in xHistory], ':')\n",
        "\n",
        "# animated dots\n",
        "dots, = plt.plot(xHistory[0].real, xHistory[0].imag, 'ob')\n",
        "\n",
        "title = plt.title('')\n",
        "\n",
        "def animate(i): # update the data\n",
        "    dots.set_xdata([xHistory[i].real])\n",
        "    dots.set_ydata([xHistory[i].imag])\n",
        "    title.set_text(\"t = %2.3f\" %(tHistory[i]))\n",
        "\n",
        "anim = animation.FuncAnimation(fig, animate, len(tHistory),\n",
        "    interval=25)\n",
        "\n",
        "plt.xlabel('x')\n",
        "plt.ylabel('y')\n",
        "plt.axis('equal')\n",
        "#plt.show()\n",
        "\n",
        "# for colab\n",
        "plt.close()\n",
        "anim"
      ]
    },
    {
      "cell_type": "markdown",
      "metadata": {
        "id": "TBlLGQkeh8Ra"
      },
      "source": [
        "**Idea of construction:** find a (local) minimum of the Lagrangean action under the topological constraint of a braid-like periodic motion. See Moore, C.: Braids in classical gravity. Phys. Rev. Lett. 70, 3675.\n",
        "\n",
        "**Exercise:** Which of the following quantities must theoretically be conserved in this dynamics:\n",
        "* total energy;\n",
        "* total linear momentum;\n",
        "* total angular momentum?\n",
        "\n",
        "For those that must be conserved, check how well they are conserved in the simulation.\n",
        "\n",
        "**Exercise:** Is there a periodic motion with four gravitating bodies? If yes, confirm by a simulation."
      ]
    },
    {
      "cell_type": "markdown",
      "metadata": {
        "id": "jcMsvHfIh8Rc"
      },
      "source": [
        "## Large system of particles under the Lennard-Jones potential\n",
        "Lennard-Jones potential (weak attraction at large $r$, strong repulsion at small $r$):\n",
        "$$V(r)=4\\epsilon \\bigg(\\Big(\\frac{\\sigma}{r}\\Big)^{12}-\\Big(\\frac{\\sigma}{r}\\Big)^{6}\\bigg)$$"
      ]
    },
    {
      "cell_type": "code",
      "execution_count": null,
      "metadata": {
        "id": "XJlh98odh8Rd"
      },
      "outputs": [],
      "source": [
        "%matplotlib inline\n",
        "def LJ(r, eps=1., sigma=1.):\n",
        "    sr = sigma/r\n",
        "    return 4*eps*(sr**12-sr**6)\n",
        "r = np.linspace(0.9,3,1000)\n",
        "y = LJ(r)\n",
        "plt.figure(figsize=(4,3))\n",
        "plt.plot(r, y)\n",
        "plt.xlabel('r')\n",
        "plt.ylabel('V(r)')\n",
        "plt.plot(r, np.zeros_like(r),':')\n",
        "plt.show()"
      ]
    },
    {
      "cell_type": "markdown",
      "metadata": {
        "id": "nuXgIJ1Th8Re"
      },
      "source": [
        "### Simulation of multiple particles in a 3D box with periodic b.c.\n",
        "\n",
        "$$\\ddot{\\mathbf{x}}_n=-\\sum_{k:k\\ne n} V'(|\\mathbf x_n-\\mathbf x_k|), \\quad n=1,\\ldots, N$$"
      ]
    },
    {
      "cell_type": "code",
      "execution_count": null,
      "metadata": {
        "id": "bYzXEJF0h8Rf"
      },
      "outputs": [],
      "source": [
        "N = 100 # number of particles\n",
        "L = 5. # size of the box\n",
        "v0std = 1. # initial velocity std per axis per particle\n",
        "\n",
        "init_pos = 'regular' # 'regular' or 'random'\n",
        "if init_pos == 'regular': # initial positions are on a grid\n",
        "    cellsPerSide = int(np.ceil(N**(1./3)))\n",
        "    L1 = L/cellsPerSide\n",
        "    x0 = np.zeros((N,3)) # the array of initial positions\n",
        "    x0[:,0] = np.arange(N)%cellsPerSide\n",
        "    a = np.arange(N)//cellsPerSide\n",
        "    x0[:,1] = a%cellsPerSide\n",
        "    x0[:,2] = a//cellsPerSide\n",
        "    x0 = L1/2+L1*x0\n",
        "\n",
        "elif init_pos == 'random': # initial positions are random\n",
        "    x0 = L*np.random.rand(N,3)\n",
        "else:\n",
        "    raise NotImplementedError\n",
        "\n",
        "\n",
        "v0 = v0std*np.random.normal(size=(N,3)) # initial velocities are random\n",
        "\n",
        "def F_all(x, eps=1., sigma=1.): # construct the N x 3 array of forces (accelerations)\n",
        "    x1 = np.broadcast_to(x.reshape((N,1,3)), (N,N,3))\n",
        "    x2 = np.broadcast_to(x.reshape((1,N,3)), (N,N,3))\n",
        "    R = x2-x1\n",
        "    R = (R+L/2.)%L-L/2. # periodic b.c.\n",
        "    assert np.all(R >= -L/2.) and np.all(R <= L/2.)\n",
        "    r = np.sqrt(np.sum(R*R, axis=2))+1e-10\n",
        "    sr = sigma/r\n",
        "    F0 = 4*eps*(12*sr**12/r-6*sr**6/r) # scalar values of forces\n",
        "    F = R*np.broadcast_to((F0/r).reshape((N,N,1)), (N,N,3))\n",
        "    F[range(N), range(N)] = 0 # exclude self-action\n",
        "    assert np.sum(np.isnan(F)) == 0\n",
        "    return -np.sum(F, axis=1) # the force is sum contributions from all particles\n",
        "\n",
        "def integrate(F_all, x, v, dt, N): # Leapfrog\n",
        "    xHistory = [x0]\n",
        "    vHistory_ = [v0+dt/2.*F_all(x)]\n",
        "    for n in range(N):\n",
        "        xHistory.append(np.remainder(xHistory[-1]+dt*vHistory_[-1], L))\n",
        "        vHistory_.append((vHistory_[-1]+dt*F_all(xHistory[-1])))\n",
        "    vHistory = [v0]+[(vHistory_[n]+vHistory_[n+1])/2. for n in range(len(vHistory_)-1)]\n",
        "    assert len(xHistory) == len(vHistory)\n",
        "    return xHistory, vHistory\n",
        "\n",
        "m = 2\n",
        "dt = 10**(-m)\n",
        "xHistory, vHistory = integrate(F_all, x0, v0, dt=dt, N=int(5./dt))\n",
        "tHistory = dt*np.arange(len(xHistory))"
      ]
    },
    {
      "cell_type": "markdown",
      "metadata": {
        "id": "QLxRURpjh8Rf"
      },
      "source": [
        "### Visualization"
      ]
    },
    {
      "cell_type": "code",
      "execution_count": null,
      "metadata": {
        "id": "qfLP1IMph8Rf"
      },
      "outputs": [],
      "source": [
        "import mpl_toolkits.mplot3d.axes3d as p3\n",
        "from matplotlib.patches import Rectangle, PathPatch\n",
        "import mpl_toolkits.mplot3d.art3d as art3d\n",
        "\n",
        "#matplotlib auto\n",
        "%matplotlib inline\n",
        "\n",
        "fig = plt.figure(figsize=(8,8))\n",
        "ax = plt.axes(projection = '3d')\n",
        "\n",
        "dots, = plt.plot(xHistory[0][:,0], xHistory[0][:,1], xHistory[0][:,2], 'ob')\n",
        "\n",
        "plt.axis('off')\n",
        "\n",
        "ax.set_xlim3d([0, L])\n",
        "ax.set_ylim3d([0, L])\n",
        "ax.set_zlim3d([0, L])\n",
        "\n",
        "title = plt.title('')\n",
        "\n",
        "for zdir in ['x','y','z']:\n",
        "    for z in [0,L]:\n",
        "        p = Rectangle((0,0), L, L, color='r', alpha=0.1)\n",
        "        ax.add_patch(p)\n",
        "        art3d.pathpatch_2d_to_3d(p, z=z, zdir=zdir)\n",
        "\n",
        "skip = 1\n",
        "\n",
        "def animate(i):\n",
        "    dots.set_data(xHistory[::skip][i][:,0], xHistory[::skip][i][:,1])\n",
        "    dots.set_3d_properties(xHistory[::skip][i][:,2])\n",
        "    title.set_text(\"t = %2.3f\" %(tHistory[::skip][i]))\n",
        "\n",
        "\n",
        "anim = animation.FuncAnimation(fig, animate, len(tHistory[::skip]),\n",
        "    interval=1)\n",
        "\n",
        "#plt.show()\n",
        "\n",
        "# for colab\n",
        "plt.close()\n",
        "anim"
      ]
    },
    {
      "cell_type": "markdown",
      "metadata": {
        "id": "yHyr_pCth8Rg"
      },
      "source": [
        "#### Energy plots:"
      ]
    },
    {
      "cell_type": "code",
      "execution_count": null,
      "metadata": {
        "id": "qY9sGZbbh8Rh"
      },
      "outputs": [],
      "source": [
        "def getEkin(v): # kinetic\n",
        "    return np.sum(v*v)/2\n",
        "\n",
        "def getEpot(x,v,eps=1.,sigma=1.): # potential\n",
        "    x1 = np.broadcast_to(x.reshape((N,1,3)), (N,N,3))\n",
        "    x2 = np.broadcast_to(x.reshape((1,N,3)), (N,N,3))\n",
        "    R = x2-x1\n",
        "    R = (R+L/2.)%L-L/2. # periodic b.c.\n",
        "    assert np.all(R >= -L/2.) and np.all(R <= L/2.)\n",
        "    r = np.sqrt(np.sum(R*R, axis=2))+1e-10\n",
        "    sr = sigma/r\n",
        "    Epot_ = 4*eps*(sr**12-sr**6)\n",
        "    Epot_[range(len(x)), range(len(x))] = 0\n",
        "    Epot = np.sum(Epot_)/2\n",
        "    return Epot\n",
        "\n",
        "Nstart = 0\n",
        "Nend = 10000\n",
        "\n",
        "EpotHistory = [getEpot(xHistory[i], vHistory[i]) for i in range(len(xHistory[Nstart:Nend]))]\n",
        "EkinHistory = [getEkin(vHistory[i]) for i in range(len(xHistory[Nstart:Nend]))]\n",
        "EtotalHistory = [EpotHistory[i]+EkinHistory[i] for i in range(len(xHistory[Nstart:Nend]))]\n",
        "\n",
        "print ('Initial energy:', EtotalHistory[0])\n",
        "print ('Mean deviation of energy from initial value:', np.mean(np.abs(np.array(EtotalHistory)-EtotalHistory[0])))\n",
        "\n",
        "plt.plot(tHistory[Nstart:Nend], EpotHistory[Nstart:Nend], label='potential')\n",
        "plt.plot(tHistory[Nstart:Nend], EkinHistory[Nstart:Nend], label='kinetic')\n",
        "plt.plot(tHistory[Nstart:Nend], EtotalHistory[Nstart:Nend], label='total')\n",
        "plt.xlabel('t')\n",
        "plt.title('Energy')\n",
        "plt.legend(loc='upper right')\n",
        "plt.show()"
      ]
    },
    {
      "cell_type": "markdown",
      "metadata": {
        "id": "zgzTO8Cbh8Rh"
      },
      "source": [
        "**Exercise:** Why is a regular initial distribution of particles better than random? Estimate theoretically the minimum size of the box for which the initial total LJ energy of $N=100$ randomly distributed particles is below $10^5$ with probability 0.9.\n",
        "\n",
        "**Exercise:** Implement reflective boundary conditions (particles bounce off the walls).\n",
        "\n",
        "**Exercise:** Find a ground state of the system governed by the LJ potential. To this end, implement a \"cooling\" in the simulation by introducing slow particle deceleration. Is there a periodic order in the resulting configuration? Try different sizes of the box and different numbers of particles.\n",
        "\n",
        "**Exercise:** Implement a faster ($O(N)$ instead of $O(N^2)$) computation of forces by cutting off the potential (assuming the box size is much larger than the effective interaction distance):\n",
        "1. Divide the box into cubic cells so that particle interact only if they are from the same or neighboring cells.\n",
        "2. At each simulation step, create a cell-to-(all particles in this cell) dictionary.\n",
        "3. Compute the forces by iterating over cells and their neighbors.\n",
        "\n",
        "**Exercise:** Make an MPI-parallelized version of the program with a cut-off potential using domain decomposition.\n",
        "\n",
        "**Exercise:** Implement a GPU version of the program."
      ]
    }
  ],
  "metadata": {
    "colab": {
      "provenance": []
    },
    "kernelspec": {
      "display_name": "Python 3",
      "language": "python",
      "name": "python3"
    },
    "language_info": {
      "codemirror_mode": {
        "name": "ipython",
        "version": 3
      },
      "file_extension": ".py",
      "mimetype": "text/x-python",
      "name": "python",
      "nbconvert_exporter": "python",
      "pygments_lexer": "ipython3",
      "version": "3.8.8"
    }
  },
  "nbformat": 4,
  "nbformat_minor": 0
}