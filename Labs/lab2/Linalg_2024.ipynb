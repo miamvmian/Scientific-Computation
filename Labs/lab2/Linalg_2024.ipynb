{
  "nbformat": 4,
  "nbformat_minor": 0,
  "metadata": {
    "kernelspec": {
      "display_name": "Python 3",
      "language": "python",
      "name": "python3"
    },
    "language_info": {
      "codemirror_mode": {
        "name": "ipython",
        "version": 3
      },
      "file_extension": ".py",
      "mimetype": "text/x-python",
      "name": "python",
      "nbconvert_exporter": "python",
      "pygments_lexer": "ipython3",
      "version": "3.5.2"
    },
    "colab": {
      "provenance": []
    }
  },
  "cells": [
    {
      "cell_type": "markdown",
      "metadata": {
        "id": "jZUQwzigzesa"
      },
      "source": [
        "## Norms, $L^p$-spaces, condition numbers, least squares fitting, regularization\n",
        "\n",
        "### Normed spaces, $L^p$ spaces\n",
        "\n",
        "**Normed space**: a vector space $V$ equipped with a norm $\\|\\cdot\\|:V\\to \\mathbb R_+$ such that\n",
        "* $\\|\\lambda\\mathbf v\\|=|\\lambda|\\|\\mathbf v\\|$\n",
        "* $\\|\\mathbf v+\\mathbf u\\|\\le \\|\\mathbf v\\|+\\|\\mathbf u\\|$\n",
        "\n",
        "**Measure space**:  a set $\\Omega$ and a nonnegative function (measure) $\\mu$ on some of its subsets (a $\\sigma$-algebra) with the ($\\sigma$-)additivity property:\n",
        "\n",
        "$$\\mu(\\sqcup_k A_k)=\\sum_k \\mu(A_k),$$\n",
        "\n",
        "where $\\sqcup$ is the union of non-overlapping sets.\n",
        "\n",
        "Two important examples:\n",
        "* **Probability space**: $\\mu(\\Omega)=1$\n",
        "* **Discrete set with the counting measure**: $\\Omega=\\{\\omega_1, \\omega_2,\\ldots\\}$ such that $\\mu(\\{\\omega_k\\})=1$\n",
        "\n",
        "**Functional spaces**: $V=\\{f:\\Omega\\to\\mathbb R\\}$\n",
        "\n",
        "* Random variables: functions on a probability space $\\Omega$\n",
        "* $\\mathbb R^n$: functions on the discrete set $\\Omega=\\{\\omega_1,\\ldots,\\omega_n\\}$\n",
        "\n",
        "**$L^p$ spaces**: functional spaces with the norm\n",
        "\n",
        "$$\\|f\\|_p=\\Big(\\int_\\Omega |f|^p d\\mu\\Big)^{1/p},$$\n",
        "\n",
        "where $p\\ge 1$.\n",
        "\n",
        "Most widely used: $p=1,2,\\infty$.\n",
        "\n",
        "$p=\\infty$ requires a separate definition:\n",
        "\n",
        "$$\\|f\\|_\\infty=\\sup_x |f(x)|$$\n",
        "\n",
        "**Exercise:** Why is this a natural definition?\n",
        "\n",
        "**$l^p$-norms on $\\mathbb R^n$**: View $\\mathbb R^n$ as functional space on $\\Omega=\\{\\omega_1, \\ldots, \\omega_n\\}$, then for any $\\mathbf v=(v_1,\\ldots,v_n)$\n",
        "\n",
        "$$\\|\\mathbf v\\|_p=\\begin{cases}\\big(\\sum_{k=1}^n|v_k|^p\\big)^{1/p}, & p < \\infty \\\\ \\max_k|v_k|,& p= \\infty\\end{cases}$$\n",
        "\n",
        "**Exercise:** What are the two-dimensional balls with respect to the norms $\\|\\cdot\\|_1$ and $\\|\\cdot\\|_\\infty$?\n",
        "\n",
        "**Exercise$^*$** (\"curse of dimensionality\"): Let $A_n$ be the $\\|\\cdot\\|_1$-ball in $\\mathbb R^n$ centered at the origin and having the radius such that the volume of $A_n$ is 1. Similarly, let $B_n$ be the $\\|\\cdot\\|_\\infty$-ball in $\\mathbb R^n$ centered at the origin and having the radius such that the volume of $B_n$ is 1. Show that at large $n$\n",
        "\n",
        "$$\\operatorname{Vol}(A_n\\cap B_n)\\sim e^{-an}$$\n",
        "\n",
        "with some constant $a>0,$ and find this $a$. (*Hint*: large deviation theory)"
      ]
    },
    {
      "cell_type": "code",
      "metadata": {
        "colab": {
          "base_uri": "https://localhost:8080/"
        },
        "id": "RVaEL32xzese",
        "outputId": "21122210-6259-404b-a0ca-3c62704c6e36"
      },
      "source": [
        "import numpy as np\n",
        "v = [0,1,2]\n",
        "p = 1.5\n",
        "print (np.linalg.norm(v,p))"
      ],
      "execution_count": 2,
      "outputs": [
        {
          "output_type": "stream",
          "name": "stdout",
          "text": [
            "2.4472608147714756\n"
          ]
        }
      ]
    },
    {
      "cell_type": "markdown",
      "metadata": {
        "id": "-XX9BLeEzesh"
      },
      "source": [
        "The case $p=2$ is special: the norm is obtained from the scalar product:\n",
        "\n",
        "$$\\|f\\|_2=\\sqrt{\\langle f, f\\rangle},$$\n",
        "\n",
        "where\n",
        "\n",
        "$$\\langle f, g\\rangle = \\int_\\Omega fg d\\mu$$\n",
        "\n",
        "### Errors\n",
        "\n",
        "Let $\\mathbf y = (y_1, \\ldots, y_N)$ be true values, and $\\widetilde{\\mathbf y} = (\\mathbf y_1, \\ldots, \\mathbf y_N)$ be approximate values.\n",
        "\n",
        "The **absolute** error of representing vector $\\mathbf y$ as $\\widetilde{\\mathbf y}$ is $\\|\\mathbf y-\\widetilde{\\mathbf y}\\|$, where $\\|\\cdot\\|$ is some norm in $\\mathbb R^N$, e.g. an $l^p$-norm.\n",
        "\n",
        "The **relative** error is $\\frac{\\|\\mathbf y-\\widetilde{\\mathbf y}\\|}{\\|\\mathbf y\\|}$.\n",
        "\n",
        "**Error metrics in statistical context:** If the values in $\\mathbf y$ result from some repeated (random) experiments, one typically defines errors as $L^p$-norms with the probability measure $\\mu(\\omega_k)=\\frac{1}{N}$:\n",
        "* $L^1$-norm for Mean Absolute Error: $$\\rm{MAE}=\\frac{1}{N}\\sum_{n=1}^N|y_n-\\widetilde y_n|$$\n",
        "* $L^2$-norm for Root-Mean-Squared Error:\n",
        "$$\\rm{RMSE}=\\sqrt{\\frac{1}{N}\\sum_{n=1}^N|y_n-\\widetilde y_n|^2}$$\n",
        "* $L^\\infty$-norm for Maximum Error:\n",
        "$$\\rm{MaxE}=\\max_{n}|y_n-\\widetilde y_n|$$\n",
        "\n",
        "**Exercise:** Which is the biggest: MAE, RMSE, or MaxE? Which is the smallest?\n",
        "\n",
        "**Statistical relative errors**: E.g., relative RMSE:\n",
        "\n",
        "$$\\rm{RRMSE}=\\frac{\\sqrt{\\frac{1}{N}\\sum_{n=1}^N|y_n-\\widetilde y_n|^2}}{\\sqrt{\\frac{1}{N}\\sum_{n=1}^N|y_n-\\langle y\\rangle|^2}},$$\n",
        "\n",
        "where $\\langle y\\rangle = \\frac{1}{N}\\sum_n y_n.$\n",
        "* $\\mathrm{RRMSE}^2$ is the \"fraction of *unexplained* variance\"\n",
        "* $R^2=1-\\mathrm{RRMSE}^2$ is the \"fraction of *explained* variance\", a.k.a. *coefficient of determination*\n",
        "\n",
        "### Matrix norm\n",
        "\n",
        "Given a vector norm $\\|\\cdot\\|$ on $\\mathbb R^n$, the corresponding matrix norm is defined by\n",
        "\n",
        "$$\\|A\\|=\\sup_{\\mathbf v}\\frac{\\|A\\mathbf v\\|}{\\|\\mathbf v\\|}$$\n",
        "\n",
        "**Exercise:** For a matrix $A=(A_{nm})$, prove that:\n",
        "* $\\|A\\|_\\infty = \\max_m \\sum_{n}|A_{mn}|$\n",
        "* $\\|A\\|_1 = \\max_n \\sum_{m}|A_{mn}|$\n",
        "* $\\|A\\|_2\\le\\sqrt{\\|A\\|_1\\|A\\|_\\infty}$\n",
        "\n",
        "**Exercise:** For any matrix norm $\\|A\\|$:\n",
        "* $\\|\\mathrm{Id}\\|=1$\n",
        "* $\\|AB\\|\\le \\|A\\|\\|B\\|$\n",
        "\n",
        "**Exercise:** Frobenius norm $\\|A\\|_F=\\sqrt{\\sum_{mn}A_{mn}^2}$ of a matrix is **not** a matrix norm.\n",
        "\n",
        "**Exercise:** Let $A$ be a symmetric matrix, then $\\|A\\|_2=\\max_n |\\lambda_n(A)|$, where $\\lambda_n(A)$ are eigenvalues of $A$.\n",
        "\n",
        "**Exercise:** For a general matrix $A$, $\\|A\\|_2=\\max_n \\lambda_n(A)$, where $\\lambda_n(A)$ are singular values of $A$:\n",
        "\n",
        "$$A=U\\Lambda V^t,\\quad UU^t=VV^t=\\mathrm{Id}, \\quad\\Lambda=\\operatorname{diag}(\\lambda_1,\\ldots,\\lambda_n),\\quad \\lambda_k\\ge 0$$\n",
        "\n",
        "### Matrix condition number\n",
        "\n",
        "Consider a linear system of equations $$A\\mathbf x = \\mathbf b,$$\n",
        "\n",
        "with $A\\in \\mathbb R^{n\\times n}$ and $\\mathbf x, \\mathbf b\\in\\mathbb R^n$. Suppose that we are solving the perturbed equation:\n",
        "\n",
        "$$A(\\mathbf x+\\Delta \\mathbf x)=\\mathbf b +\\Delta\\mathbf b$$\n",
        "\n",
        "**Exercise:** Show that $$\\frac{\\|\\Delta \\mathbf x\\|}{\\|\\mathbf x\\|}\\le \\kappa(A)\\frac{\\|\\Delta\\mathbf b\\|}{\\|\\mathbf b\\|},$$\n",
        "\n",
        "where $\\kappa(A)$ is **condition number**:\n",
        "\n",
        "$$\\kappa(A)=\\|A\\|\\cdot\\|A^{-1}\\|$$\n",
        "\n",
        "\n",
        "**Exercise:** Show that $\\kappa(A)\\ge 1$. When is $\\kappa(A)= 1$?\n",
        "\n",
        "**Exercise:** If $\\|\\cdot\\|$ is the $l^2$-norm and $A$ is symmetric and positive definite, then $$\\kappa(A)=\\frac{\\lambda_{\\max}(A)}{\\lambda_{\\min}(A)},$$\n",
        "\n",
        "where $\\lambda_\\max, \\lambda_\\min$ are the maximal and the minimal eigenvalues, respectively.\n",
        "\n",
        "**Exercise:** If $\\|\\cdot\\|$ is the $l^2$-norm and $A$ is arbitrary, then $$\\kappa(A)=\\sqrt{\\frac{\\lambda_{\\max}(A^*A)}{\\lambda_{\\min}(A^*A)}}$$"
      ]
    },
    {
      "cell_type": "code",
      "metadata": {
        "colab": {
          "base_uri": "https://localhost:8080/"
        },
        "id": "I0GlzX3Xzesj",
        "outputId": "9a81a4d6-8a0e-4ac4-e472-7b729f01a654"
      },
      "source": [
        "A = [[0,1],[2,3]]\n",
        "print (np.linalg.cond(A))"
      ],
      "execution_count": 3,
      "outputs": [
        {
          "output_type": "stream",
          "name": "stdout",
          "text": [
            "6.8541019662496865\n"
          ]
        }
      ]
    },
    {
      "cell_type": "markdown",
      "metadata": {
        "id": "fT3FuW1rzesl"
      },
      "source": [
        "**Exercise:** Let $A_q=\\left(\\begin{matrix}1 & q\\\\ 0 & 1\\end{matrix}\\right)$ with $q\\in\\mathbb R$.\n",
        "* For any $q$, find condition number $\\kappa(A_q)$ with respect to the $l^2$-norm.\n",
        "* Give an example of specific values of $q,\\mathbf b, \\Delta\\mathbf b$ such that, when solving $A_q\\mathbf x = \\mathbf b$ and $A_q(\\mathbf x+\\Delta \\mathbf x)=\\mathbf b (\\mathbf x+\\Delta\\mathbf x)$, we get\n",
        "\n",
        "$$\\frac{\\|\\Delta \\mathbf x\\|}{\\|\\mathbf x\\|}\\ge 10^6\\frac{\\|\\Delta\\mathbf b\\|}{\\|\\mathbf b\\|}.$$\n",
        "\n",
        "\n",
        "## Example: polynomial interpolation\n",
        "\n",
        "Problem: reconstruct a degree-$(N-1)$ polynomial $p(t)=\\sum_{n=0}^{N-1}c_nt^n$ by $N$ values.\n",
        "\n",
        "For any $\\mathbf t=(t_0,\\ldots,t_{N-1})$, if $\\mathbf c=(c_0,\\ldots,c_{N-1}),$ then $\\mathbf y=(p(t_0), \\ldots, p(t_{N-1}))$\n",
        "\n",
        "$$\\mathbf y = A\\mathbf c,$$\n",
        "\n",
        "where $A_{m,n}=(t_m)^n.$\n",
        "\n",
        "**Exercise:** If the values $t_m$ are distinct, then the matrix $(A_{m,n})_{m,n=0}^{N-1}$ is invertible (a *Vandermonde* matrix)."
      ]
    },
    {
      "cell_type": "code",
      "metadata": {
        "colab": {
          "base_uri": "https://localhost:8080/",
          "height": 328
        },
        "id": "6piMXu1Bzesm",
        "outputId": "7ba32665-1d9c-4aa8-e17b-eebfac1b5781"
      },
      "source": [
        "import matplotlib.pyplot as plt\n",
        "%matplotlib inline\n",
        "\n",
        "N = 10\n",
        "\n",
        "# an example of vector of coefficients\n",
        "coeffs = np.arange(N)\n",
        "print ('Coefficients:', coeffs)\n",
        "\n",
        "def A(t):\n",
        "    '''The matrix A giving the outputs, y = Ac, based on the values of t'''\n",
        "    return np.array([t**k for k in range(N)]).T\n",
        "\n",
        "# test points\n",
        "t_test = np.linspace(-0.5,1.1,100)\n",
        "A_test = A(t_test)\n",
        "y_test = A_test.dot(coeffs)\n",
        "\n",
        "plt.figure(figsize=(4,3))\n",
        "plt.plot(t_test, y_test, '-r')\n",
        "plt.xlabel('t')\n",
        "plt.ylabel('y')\n",
        "plt.show()"
      ],
      "execution_count": 4,
      "outputs": [
        {
          "output_type": "stream",
          "name": "stdout",
          "text": [
            "Coefficients: [0 1 2 3 4 5 6 7 8 9]\n"
          ]
        },
        {
          "output_type": "display_data",
          "data": {
            "text/plain": [
              "<Figure size 400x300 with 1 Axes>"
            ],
            "image/png": "[encoded data removed]"
          },
          "metadata": {}
        }
      ]
    },
    {
      "cell_type": "markdown",
      "metadata": {
        "id": "aecejitazesm"
      },
      "source": [
        "Take a random set of $N$ points $t_0,\\ldots,t_{N-1}$, compute the corresponding $y$ values, and **round them** keeping $M$ decimal digits. After that, compute the coefficients."
      ]
    },
    {
      "cell_type": "code",
      "metadata": {
        "colab": {
          "base_uri": "https://localhost:8080/",
          "height": 837
        },
        "id": "9_NGf-gKzesn",
        "outputId": "d3f28fbe-26ee-49d5-ffdb-f3e6b2a0179e"
      },
      "source": [
        "M = 6\n",
        "\n",
        "t = np.random.rand(N,)\n",
        "# t = np.linspace(0,1,N)\n",
        "print ('t values:', t)\n",
        "\n",
        "# true values\n",
        "y = A(t).dot(coeffs)\n",
        "\n",
        "# rounding\n",
        "y_rounded = np.round(y, decimals=M)\n",
        "\n",
        "print ('Rounded values of y:')\n",
        "print (y_rounded)\n",
        "\n",
        "coeffs_estimated = np.linalg.inv(A(t)).dot(y_rounded)\n",
        "print ('\\nEstimated coefficients:')\n",
        "print (coeffs_estimated)\n",
        "\n",
        "plt.figure(figsize=(4,3))\n",
        "plt.plot(np.arange(N), coeffs, 'o', label='true')\n",
        "plt.plot(np.arange(N), coeffs_estimated, 's', label='estimated')\n",
        "plt.title('True vs. estimated coefficients')\n",
        "plt.legend()\n",
        "plt.show()\n",
        "\n",
        "#compare on the test set\n",
        "y_pred = A_test.dot(coeffs_estimated)\n",
        "\n",
        "print ('\\nMax difference of values on test set:' )\n",
        "print (np.max(np.abs(y_pred-y_test)))\n",
        "\n",
        "plt.figure(figsize=(4,3))\n",
        "plt.plot(t_test, y_test, label='true')\n",
        "plt.plot(t_test, y_pred, label='estimated')\n",
        "plt.plot(t, y, 'ob')\n",
        "plt.title('True vs. estimated polynomial')\n",
        "plt.legend()\n",
        "plt.show()"
      ],
      "execution_count": 5,
      "outputs": [
        {
          "output_type": "stream",
          "name": "stdout",
          "text": [
            "t values: [0.26136653 0.42714381 0.66944387 0.85851257 0.67766316 0.45784643\n",
            " 0.5514334  0.83666744 0.63853401 0.05265605]\n",
            "Rounded values of y:\n",
            "[ 0.479041  1.297824  5.469018 18.185132  5.75537   1.549573  2.675478\n",
            " 15.799776  4.520284  0.058672]\n",
            "\n",
            "Estimated coefficients:\n",
            "[-2.48274265e-02  1.85850650e+00 -7.92327024e+00  6.14362701e+01\n",
            " -1.99365956e+02  4.49403502e+02 -6.12164102e+02  5.39319993e+02\n",
            " -2.50997021e+02  6.34714805e+01]\n"
          ]
        },
        {
          "output_type": "display_data",
          "data": {
            "text/plain": [
              "<Figure size 400x300 with 1 Axes>"
            ],
            "image/png": "[encoded data removed]"
          },
          "metadata": {}
        },
        {
          "output_type": "stream",
          "name": "stdout",
          "text": [
            "\n",
            "Max difference of values on test set:\n",
            "51.773074477801856\n"
          ]
        },
        {
          "output_type": "display_data",
          "data": {
            "text/plain": [
              "<Figure size 400x300 with 1 Axes>"
            ],
            "image/png": "[encoded data removed]"
          },
          "metadata": {}
        }
      ]
    },
    {
      "cell_type": "markdown",
      "metadata": {
        "id": "XsmsaEd8zesp"
      },
      "source": [
        "**Exercise:** If $\\min_{n\\ne m}|t_n-t_m|\\to 0$, then $\\kappa(A)\\to\\infty$.\n",
        "\n",
        "Check the minimum distance between $t_n$ and the condition number of $A$:"
      ]
    },
    {
      "cell_type": "code",
      "metadata": {
        "colab": {
          "base_uri": "https://localhost:8080/"
        },
        "id": "jS_bzP_Rzesq",
        "outputId": "9108942c-7053-4d89-bb44-f3b085d75f14"
      },
      "source": [
        "t_sorted = np.sort(t)\n",
        "print ('Min distance between points t[n]:', np.min(t_sorted[1:]-t_sorted[:-1]))\n",
        "print ('Condition number of A: %e' %np.linalg.cond(A(t)))"
      ],
      "execution_count": 6,
      "outputs": [
        {
          "output_type": "stream",
          "name": "stdout",
          "text": [
            "Min distance between points t[n]: 0.008219289931374885\n",
            "Condition number of A: 7.726376e+09\n"
          ]
        }
      ]
    },
    {
      "cell_type": "markdown",
      "metadata": {
        "id": "KR1h_5Ljzess"
      },
      "source": [
        "## Least squares fitting, regularization\n",
        "Consider a possibly *overdetermined* system of linear equation, i.e.  \n",
        "\n",
        "$$A\\mathbf x = \\mathbf b,$$\n",
        "\n",
        "where $\\dim \\mathbf x \\le \\dim\\mathbf b$.\n",
        "\n",
        "In this case the optimal $\\mathbf x$ is usually determined by least squares fitting:\n",
        "\n",
        "$$\\|A{\\mathbf x}-\\mathbf{b}\\|^2\\to\\min_{\\mathbf x}$$\n",
        "\n",
        "**Exercise:** The solution is given by\n",
        "\n",
        "$$\\mathbf x = (A^tA)^{-1}A^t\\mathbf b$$\n",
        "\n",
        "What if $A^tA$ is degenerate or ill-conditioned?\n",
        "\n",
        "**Regularization**: consider instead the optimization problem\n",
        "\n",
        "$$\\|A{\\mathbf x}-\\mathbf{b}\\|^2+\\mu \\|\\mathbf x\\|^2\\to\\min_{\\mathbf x}$$\n",
        "\n",
        "with some parameter $\\mu>0$.\n",
        "\n",
        "**Exercise:** The solution is given by\n",
        "\n",
        "$$\\mathbf x = (A^tA+\\mu)^{-1}A^t\\mathbf b.$$\n",
        "\n",
        "Show that $A^tA+\\mu$ is better conditioned than $A^tA$.\n",
        "\n",
        "The regularized formulation can be used for underdetermined as well as overdetermined systems.\n",
        "\n",
        "**Exercise:** Show that the regularized solution is the most probable Bayesian estimator for $\\mathbf x$ assuming the stochastic dependence $\\mathbf y = A\\mathbf x+\\eta$ with $\\eta\\sim \\mathcal N(0,\\mathbf 1)$ and a normal prior  with covariance matrix $\\frac{1}{\\mu}\\mathbf 1$.\n",
        "\n",
        "## Example: a real world regression problem\n",
        "\n",
        "Consider the data set\n",
        "https://archive.ics.uci.edu/ml/datasets/Relative+location+of+CT+slices+on+axial+axis\n",
        "\n",
        "We want to construct a linear predictive model for the last column (Relative location of the image) using all previous columns except the ID (the first column).\n",
        "\n",
        "Download and extract the compressed dataset to the folder `CTslices_dir` as a `.csv` file:"
      ]
    },
    {
      "cell_type": "code",
      "metadata": {
        "colab": {
          "base_uri": "https://localhost:8080/"
        },
        "id": "kamF29dnzest",
        "outputId": "80784a40-8e11-4fc7-9cb8-2717d699af20"
      },
      "source": [
        "from urllib.request import urlretrieve\n",
        "import zipfile\n",
        "\n",
        "url = 'https://archive.ics.uci.edu/ml/machine-learning-databases/00206/slice_localization_data.zip'\n",
        "urlretrieve(url, 'CTslices')\n",
        "print ('downloaded OK')\n",
        "\n",
        "zip_ref = zipfile.ZipFile('CTslices', 'r')\n",
        "zip_ref.extractall('CTslices_dir')\n",
        "zip_ref.close()\n",
        "print ('extracted OK')"
      ],
      "execution_count": 7,
      "outputs": [
        {
          "output_type": "stream",
          "name": "stdout",
          "text": [
            "downloaded OK\n",
            "extracted OK\n"
          ]
        }
      ]
    },
    {
      "cell_type": "markdown",
      "metadata": {
        "id": "pGPDsaMGzesv"
      },
      "source": [
        "Import and preprocess the data:"
      ]
    },
    {
      "cell_type": "code",
      "metadata": {
        "colab": {
          "base_uri": "https://localhost:8080/"
        },
        "id": "KZrpjJfgzesv",
        "outputId": "bdc725ec-e968-494b-94a1-1998ff9db1c1"
      },
      "source": [
        "data = np.loadtxt('CTslices_dir/slice_localization_data.csv', skiprows=1, delimiter=',')\n",
        "print ('Total rows:', data.shape[0])\n",
        "print ('Total columns:', data.shape[1])\n",
        "\n",
        "N = len(data)\n",
        "A = data[:,:-1] # input values\n",
        "A[:,0] = 1 # remove the ID column, insert constants instead\n",
        "b = data[:,-1] # output values"
      ],
      "execution_count": 8,
      "outputs": [
        {
          "output_type": "stream",
          "name": "stdout",
          "text": [
            "Total rows: 53500\n",
            "Total columns: 386\n"
          ]
        }
      ]
    },
    {
      "cell_type": "markdown",
      "metadata": {
        "id": "OHhSrDFIzesv"
      },
      "source": [
        "We want to demonstrate that a reasonably accurate linear model may be constructed using a small part of data, so we randomly divide the total set into a small training set and the remaining test set."
      ]
    },
    {
      "cell_type": "code",
      "metadata": {
        "id": "YOMx6biizesw"
      },
      "source": [
        "Ntrain = 1000\n",
        "\n",
        "inds = np.random.permutation(N)\n",
        "\n",
        "train = inds[:Ntrain]\n",
        "test = inds[Ntrain:]\n",
        "Atrain = A[train]\n",
        "btrain = b[train]\n",
        "Atest = A[test]\n",
        "btest = b[test]"
      ],
      "execution_count": 9,
      "outputs": []
    },
    {
      "cell_type": "markdown",
      "metadata": {
        "id": "9Wi29dlqzesw"
      },
      "source": [
        "We will use the training data to estimate the regression coefficients:\n",
        "\n",
        "$$\\widetilde{\\mathbf c}= (A^t_{\\mathrm{train}}A_{\\mathrm{train}}+\\mu)^{-1}A_{\\mathrm{train}}^t\\mathbf b_{\\mathrm{train}}$$\n",
        "\n",
        "Then, we can use the estimated coefficients to make prediction on the test data:\n",
        "\n",
        "$$\\mathbf b_{\\mathrm{pred}}=A_{\\mathrm{test}}\\widetilde{\\mathbf c}$$\n",
        "\n",
        "Let us check the eigenvalues of the matrix $A_{\\mathrm{train}}^tA_{\\mathrm{train}}:$"
      ]
    },
    {
      "cell_type": "code",
      "metadata": {
        "colab": {
          "base_uri": "https://localhost:8080/",
          "height": 343
        },
        "id": "vTvCOK09zesy",
        "outputId": "4aa67ead-60b2-483f-e629-9bed994758ab"
      },
      "source": [
        "Q = Atrain.T.dot(Atrain)\n",
        "eig, V = np.linalg.eigh(Q)\n",
        "print ('Condition number:', np.linalg.cond(Q))\n",
        "print ('Smallest eigenvalue:', np.min(eig))\n",
        "print ('Highest eigenvalue:', np.max(eig))\n",
        "\n",
        "plt.figure(figsize=(4,3))\n",
        "plt.plot(eig,'-o')\n",
        "plt.show()"
      ],
      "execution_count": 10,
      "outputs": [
        {
          "output_type": "stream",
          "name": "stdout",
          "text": [
            "Condition number: 3.3397208949216405e+21\n",
            "Smallest eigenvalue: -5.830056265327377e-14\n",
            "Highest eigenvalue: 19518.65460830852\n"
          ]
        },
        {
          "output_type": "display_data",
          "data": {
            "text/plain": [
              "<Figure size 400x300 with 1 Axes>"
            ],
            "image/png": "[encoded data removed]"
          },
          "metadata": {}
        }
      ]
    },
    {
      "cell_type": "markdown",
      "metadata": {
        "id": "bSR0MiS1zesz"
      },
      "source": [
        "To remove degeneracy, we add regularization; the amount of regularization can vary."
      ]
    },
    {
      "cell_type": "code",
      "metadata": {
        "id": "mZ0JNJtPzesz"
      },
      "source": [
        "mu1 = 1e-4\n",
        "mu2 = 1e-8\n",
        "\n",
        "y1 = Atrain.T.dot(btrain)\n",
        "coeffs1 = np.linalg.inv(Q+mu1*np.eye(Atrain.shape[1])).dot(y1)\n",
        "coeffs2 = np.linalg.inv(Q+mu2*np.eye(Atrain.shape[1])).dot(y1)"
      ],
      "execution_count": 11,
      "outputs": []
    },
    {
      "cell_type": "markdown",
      "metadata": {
        "id": "SZyuuBPuzesz"
      },
      "source": [
        "Compute the RRMSE prediction error on the test set."
      ]
    },
    {
      "cell_type": "code",
      "metadata": {
        "colab": {
          "base_uri": "https://localhost:8080/"
        },
        "id": "FGlFKWgDzes0",
        "outputId": "78e4e40b-3e59-49ee-ce2e-19822d941158"
      },
      "source": [
        "def getRRMSE(btest, bpred):\n",
        "    return np.linalg.norm(bpred-btest)/np.linalg.norm(btest-np.mean(btest))\n",
        "\n",
        "bpred1 = Atest.dot(coeffs1)\n",
        "bpred2 = Atest.dot(coeffs2)\n",
        "\n",
        "print ('RRMS error for prediction 1:', getRRMSE(btest, bpred1))\n",
        "print ('RRMS error for prediction 2:', getRRMSE(btest, bpred2))"
      ],
      "execution_count": 12,
      "outputs": [
        {
          "output_type": "stream",
          "name": "stdout",
          "text": [
            "RRMS error for prediction 1: 0.48997471185836045\n",
            "RRMS error for prediction 2: 6.333351566157253\n"
          ]
        }
      ]
    },
    {
      "cell_type": "markdown",
      "metadata": {
        "id": "Y-OXPt5Hzes0"
      },
      "source": [
        "Compare with standard implementations of regression:"
      ]
    },
    {
      "cell_type": "code",
      "metadata": {
        "colab": {
          "base_uri": "https://localhost:8080/"
        },
        "id": "hzbrpaaVzes1",
        "outputId": "8eb2a536-f717-4978-984e-d6055e8b125f"
      },
      "source": [
        "from sklearn.linear_model import Ridge\n",
        "from sklearn.linear_model import LinearRegression as LR\n",
        "\n",
        "\n",
        "model = Ridge()\n",
        "model.fit(Atrain, btrain)\n",
        "bpred_ridge = model.predict(Atest)\n",
        "print ('RRMS error for Ridge model:', getRRMSE(btest, bpred_ridge))\n",
        "\n",
        "model = LR()\n",
        "model.fit(Atrain, btrain)\n",
        "bpred_lr = model.predict(Atest)\n",
        "print ('RRMS error for LR model:', getRRMSE(btest, bpred_lr))"
      ],
      "execution_count": 13,
      "outputs": [
        {
          "output_type": "stream",
          "name": "stdout",
          "text": [
            "RRMS error for Ridge model: 0.45130964925520994\n",
            "RRMS error for LR model: 25056192097.74896\n"
          ]
        }
      ]
    }
  ]
}