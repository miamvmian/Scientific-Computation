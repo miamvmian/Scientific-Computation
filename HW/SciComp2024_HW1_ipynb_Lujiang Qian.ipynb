{
  "nbformat": 4,
  "nbformat_minor": 0,
  "metadata": {
    "kernelspec": {
      "display_name": "Python 3",
      "language": "python",
      "name": "python3"
    },
    "language_info": {
      "codemirror_mode": {
        "name": "ipython",
        "version": 3
      },
      "file_extension": ".py",
      "mimetype": "text/x-python",
      "name": "python",
      "nbconvert_exporter": "python",
      "pygments_lexer": "ipython3",
      "version": "3.7.3"
    },
    "colab": {
      "provenance": []
    }
  },
  "cells": [
    {
      "cell_type": "markdown",
      "metadata": {
        "id": "O5DIRljFBbll"
      },
      "source": [
        "## Scientific Computing 2024: Homework Assignment 1\n",
        "Due Sunday October 13, 2024, 23:59\n",
        "\n",
        "### Problem 1 (2 points)\n",
        "Under assumptions of Amdahl's law, suppose that 75% of a program are perfectly parallelizable, and the rest is not parallelizable.\n",
        "1. What is the maximum speedup achievable by parallelization?\n",
        "\n",
        "$$S=\\frac{1}{\\frac{3}{4n}+\\frac{1}{4}}=\\frac{4n}{n+3}$$ where $n$ is the number of cores for parallel computing.\n",
        "\n",
        "2. Suppose that we have obtained speedup 2 (by using a suitable number of processes). What is the efficiency of this parallelization?\n",
        "$$S=\\frac{4n}{n+3}=2$$the number of computation cores is $n=3$, so the efficiency of the parallelization is:\n",
        "$$E=\\frac{S}{n}=\\frac{2}{3}≈67\\%$$\n"
      ]
    },
    {
      "cell_type": "markdown",
      "source": [
        "### Problem 2 (2 points)\n",
        "Write a Python or C/C++ program that uses **MPI reduce** to find the largest file in terms of the  number of lines among all .txt files in the working directory (only .txt files should be examined). The program must be callable in the form `mpirun -np <N> python linecount.py` (in the case of the Python version) or `mpirun -np <N> linecount.exe` (the C/C++ version), where `<N>` is the user-defined number of processes. The program is expected to first somehow distribute the files found in the current directory to the processes, then each process should count the lines in the files assigned to it, and finally the result should be MPI-reduced and printed out. The program only needs to output **the number of lines in the largest file**; no need to output the name of this file. The program must work correctly even if the number of files is not divisible by the number of processes.\n",
        "\n",
        "\n",
        "\n"
      ],
      "metadata": {
        "id": "eKyTXZuqS_u1"
      }
    },
    {
      "cell_type": "code",
      "source": [
        "!pip install mpi4py"
      ],
      "metadata": {
        "id": "ruNQwQhttmf1",
        "colab": {
          "base_uri": "https://localhost:8080/"
        },
        "outputId": "dae8284f-205b-4c4c-8d22-9c1f6c11bc1e"
      },
      "execution_count": 4,
      "outputs": [
        {
          "output_type": "stream",
          "name": "stdout",
          "text": [
            "Collecting mpi4py\n",
            "  Downloading mpi4py-4.0.1.tar.gz (466 kB)\n",
            "\u001b[?25l     \u001b[90m━━━━━━━━━━━━━━━━━━━━━━━━━━━━━━━━━━━━━━━━\u001b[0m \u001b[32m0.0/466.2 kB\u001b[0m \u001b[31m?\u001b[0m eta \u001b[36m-:--:--\u001b[0m\r\u001b[2K     \u001b[91m━━━━━━━━━━━━━━━━━━━━━━━━━━━━━━━━━━━━━━━\u001b[0m\u001b[91m╸\u001b[0m \u001b[32m460.8/466.2 kB\u001b[0m \u001b[31m15.3 MB/s\u001b[0m eta \u001b[36m0:00:01\u001b[0m\r\u001b[2K     \u001b[90m━━━━━━━━━━━━━━━━━━━━━━━━━━━━━━━━━━━━━━━━\u001b[0m \u001b[32m466.2/466.2 kB\u001b[0m \u001b[31m10.0 MB/s\u001b[0m eta \u001b[36m0:00:00\u001b[0m\n",
            "\u001b[?25h  Installing build dependencies ... \u001b[?25l\u001b[?25hdone\n",
            "  Getting requirements to build wheel ... \u001b[?25l\u001b[?25hdone\n",
            "  Installing backend dependencies ... \u001b[?25l\u001b[?25hdone\n",
            "  Preparing metadata (pyproject.toml) ... \u001b[?25l\u001b[?25hdone\n",
            "Building wheels for collected packages: mpi4py\n",
            "  Building wheel for mpi4py (pyproject.toml) ... \u001b[?25l\u001b[?25hdone\n",
            "  Created wheel for mpi4py: filename=mpi4py-4.0.1-cp310-cp310-linux_x86_64.whl size=4266343 sha256=e7c9da3d86b2d43e68c3f3d09fa757fe3d546a3d84f8b55bf962d6b7d3905dcc\n",
            "  Stored in directory: /root/.cache/pip/wheels/3c/ca/13/13218a83854023ccec184e3af482f0f038b434aa32c19afee8\n",
            "Successfully built mpi4py\n",
            "Installing collected packages: mpi4py\n",
            "Successfully installed mpi4py-4.0.1\n"
          ]
        }
      ]
    },
    {
      "cell_type": "code",
      "source": [
        "# create random txt files\n",
        "\n",
        "import os\n",
        "import random\n",
        "import string\n",
        "from pathlib import Path\n",
        "\n",
        "\n",
        "def generate_random_string(length: int=10) -> str:\n",
        "    \"\"\"Generate a random string of fixed length.\"\"\"\n",
        "    letters = string.ascii_letters + string.digits\n",
        "    return ''.join(random.choice(letters) for _ in range(length))\n",
        "\n",
        "\n",
        "def create_random_files(num_files: int, min_lines: int, max_lines: int, output_dir: Path)->None:\n",
        "    \"\"\"Create a specified number of text files with random lines.\"\"\"\n",
        "    # Create output directory if it doesn't exist\n",
        "    work_path = Path.cwd()\n",
        "    folder = Path.cwd()/output_dir\n",
        "    if not folder.exists():\n",
        "        os.makedirs(work_path/output_dir)\n",
        "\n",
        "    for i in range(num_files):\n",
        "        # Generate a random number of lines\n",
        "        num_lines = random.randint(min_lines, max_lines)\n",
        "\n",
        "        # Create a filename\n",
        "        filename = f\"file_{i + 1}_{num_lines}.txt\"\n",
        "        filepath = folder/filename\n",
        "\n",
        "        with open(filepath, 'w') as f:\n",
        "            for _ in range(num_lines):\n",
        "                # Write a random string as a line\n",
        "                line = generate_random_string(random.randint(10, 30))  # Random length between 5 and 20\n",
        "                f.write(line + '\\n')\n",
        "\n",
        "        print(f\"Created {filepath} with {num_lines} lines.\")\n",
        "\n",
        "\n",
        "# Parameters\n",
        "num_files = random.randint(100, 200)  # Random number of files between 1 and 10\n",
        "min_lines = 1  # Minimum lines per file\n",
        "max_lines = 2500  # Maximum lines per file\n",
        "output_directory = 'random_files'  # Output directory\n",
        "\n",
        "# Create the files\n",
        "create_random_files(num_files, min_lines, max_lines, output_directory)"
      ],
      "metadata": {
        "id": "YaMP-FQzQnds",
        "colab": {
          "base_uri": "https://localhost:8080/"
        },
        "outputId": "c59b3aa2-017f-4ecb-adef-720543940a17"
      },
      "execution_count": 2,
      "outputs": [
        {
          "output_type": "stream",
          "name": "stdout",
          "text": [
            "Created /content/random_files/file_1_1865.txt with 1865 lines.\n",
            "Created /content/random_files/file_2_519.txt with 519 lines.\n",
            "Created /content/random_files/file_3_4.txt with 4 lines.\n",
            "Created /content/random_files/file_4_1828.txt with 1828 lines.\n",
            "Created /content/random_files/file_5_966.txt with 966 lines.\n",
            "Created /content/random_files/file_6_1121.txt with 1121 lines.\n",
            "Created /content/random_files/file_7_334.txt with 334 lines.\n",
            "Created /content/random_files/file_8_1033.txt with 1033 lines.\n",
            "Created /content/random_files/file_9_1953.txt with 1953 lines.\n",
            "Created /content/random_files/file_10_2123.txt with 2123 lines.\n",
            "Created /content/random_files/file_11_567.txt with 567 lines.\n",
            "Created /content/random_files/file_12_1426.txt with 1426 lines.\n",
            "Created /content/random_files/file_13_1072.txt with 1072 lines.\n",
            "Created /content/random_files/file_14_2244.txt with 2244 lines.\n",
            "Created /content/random_files/file_15_246.txt with 246 lines.\n",
            "Created /content/random_files/file_16_190.txt with 190 lines.\n",
            "Created /content/random_files/file_17_809.txt with 809 lines.\n",
            "Created /content/random_files/file_18_1131.txt with 1131 lines.\n",
            "Created /content/random_files/file_19_402.txt with 402 lines.\n",
            "Created /content/random_files/file_20_1175.txt with 1175 lines.\n",
            "Created /content/random_files/file_21_2450.txt with 2450 lines.\n",
            "Created /content/random_files/file_22_172.txt with 172 lines.\n",
            "Created /content/random_files/file_23_338.txt with 338 lines.\n",
            "Created /content/random_files/file_24_1242.txt with 1242 lines.\n",
            "Created /content/random_files/file_25_626.txt with 626 lines.\n",
            "Created /content/random_files/file_26_1796.txt with 1796 lines.\n",
            "Created /content/random_files/file_27_622.txt with 622 lines.\n",
            "Created /content/random_files/file_28_1136.txt with 1136 lines.\n",
            "Created /content/random_files/file_29_2078.txt with 2078 lines.\n",
            "Created /content/random_files/file_30_1512.txt with 1512 lines.\n",
            "Created /content/random_files/file_31_2329.txt with 2329 lines.\n",
            "Created /content/random_files/file_32_2271.txt with 2271 lines.\n",
            "Created /content/random_files/file_33_696.txt with 696 lines.\n",
            "Created /content/random_files/file_34_1309.txt with 1309 lines.\n",
            "Created /content/random_files/file_35_2446.txt with 2446 lines.\n",
            "Created /content/random_files/file_36_288.txt with 288 lines.\n",
            "Created /content/random_files/file_37_2406.txt with 2406 lines.\n",
            "Created /content/random_files/file_38_1431.txt with 1431 lines.\n",
            "Created /content/random_files/file_39_1746.txt with 1746 lines.\n",
            "Created /content/random_files/file_40_370.txt with 370 lines.\n",
            "Created /content/random_files/file_41_1734.txt with 1734 lines.\n",
            "Created /content/random_files/file_42_1913.txt with 1913 lines.\n",
            "Created /content/random_files/file_43_617.txt with 617 lines.\n",
            "Created /content/random_files/file_44_46.txt with 46 lines.\n",
            "Created /content/random_files/file_45_688.txt with 688 lines.\n",
            "Created /content/random_files/file_46_371.txt with 371 lines.\n",
            "Created /content/random_files/file_47_1234.txt with 1234 lines.\n",
            "Created /content/random_files/file_48_897.txt with 897 lines.\n",
            "Created /content/random_files/file_49_2202.txt with 2202 lines.\n",
            "Created /content/random_files/file_50_1172.txt with 1172 lines.\n",
            "Created /content/random_files/file_51_672.txt with 672 lines.\n",
            "Created /content/random_files/file_52_750.txt with 750 lines.\n",
            "Created /content/random_files/file_53_1436.txt with 1436 lines.\n",
            "Created /content/random_files/file_54_456.txt with 456 lines.\n",
            "Created /content/random_files/file_55_1995.txt with 1995 lines.\n",
            "Created /content/random_files/file_56_2420.txt with 2420 lines.\n",
            "Created /content/random_files/file_57_1629.txt with 1629 lines.\n",
            "Created /content/random_files/file_58_547.txt with 547 lines.\n",
            "Created /content/random_files/file_59_1997.txt with 1997 lines.\n",
            "Created /content/random_files/file_60_1594.txt with 1594 lines.\n",
            "Created /content/random_files/file_61_2295.txt with 2295 lines.\n",
            "Created /content/random_files/file_62_1431.txt with 1431 lines.\n",
            "Created /content/random_files/file_63_663.txt with 663 lines.\n",
            "Created /content/random_files/file_64_2402.txt with 2402 lines.\n",
            "Created /content/random_files/file_65_1932.txt with 1932 lines.\n",
            "Created /content/random_files/file_66_268.txt with 268 lines.\n",
            "Created /content/random_files/file_67_2185.txt with 2185 lines.\n",
            "Created /content/random_files/file_68_1963.txt with 1963 lines.\n",
            "Created /content/random_files/file_69_2114.txt with 2114 lines.\n",
            "Created /content/random_files/file_70_2295.txt with 2295 lines.\n",
            "Created /content/random_files/file_71_709.txt with 709 lines.\n",
            "Created /content/random_files/file_72_1997.txt with 1997 lines.\n",
            "Created /content/random_files/file_73_653.txt with 653 lines.\n",
            "Created /content/random_files/file_74_2028.txt with 2028 lines.\n",
            "Created /content/random_files/file_75_1403.txt with 1403 lines.\n",
            "Created /content/random_files/file_76_1314.txt with 1314 lines.\n",
            "Created /content/random_files/file_77_602.txt with 602 lines.\n",
            "Created /content/random_files/file_78_2206.txt with 2206 lines.\n",
            "Created /content/random_files/file_79_1664.txt with 1664 lines.\n",
            "Created /content/random_files/file_80_2264.txt with 2264 lines.\n",
            "Created /content/random_files/file_81_570.txt with 570 lines.\n",
            "Created /content/random_files/file_82_1937.txt with 1937 lines.\n",
            "Created /content/random_files/file_83_1776.txt with 1776 lines.\n",
            "Created /content/random_files/file_84_1645.txt with 1645 lines.\n",
            "Created /content/random_files/file_85_392.txt with 392 lines.\n",
            "Created /content/random_files/file_86_863.txt with 863 lines.\n",
            "Created /content/random_files/file_87_1688.txt with 1688 lines.\n",
            "Created /content/random_files/file_88_1321.txt with 1321 lines.\n",
            "Created /content/random_files/file_89_1839.txt with 1839 lines.\n",
            "Created /content/random_files/file_90_2472.txt with 2472 lines.\n",
            "Created /content/random_files/file_91_2103.txt with 2103 lines.\n",
            "Created /content/random_files/file_92_1701.txt with 1701 lines.\n",
            "Created /content/random_files/file_93_1736.txt with 1736 lines.\n",
            "Created /content/random_files/file_94_2430.txt with 2430 lines.\n",
            "Created /content/random_files/file_95_9.txt with 9 lines.\n",
            "Created /content/random_files/file_96_37.txt with 37 lines.\n",
            "Created /content/random_files/file_97_314.txt with 314 lines.\n",
            "Created /content/random_files/file_98_1695.txt with 1695 lines.\n",
            "Created /content/random_files/file_99_436.txt with 436 lines.\n",
            "Created /content/random_files/file_100_2115.txt with 2115 lines.\n",
            "Created /content/random_files/file_101_1978.txt with 1978 lines.\n",
            "Created /content/random_files/file_102_1373.txt with 1373 lines.\n",
            "Created /content/random_files/file_103_138.txt with 138 lines.\n",
            "Created /content/random_files/file_104_2415.txt with 2415 lines.\n",
            "Created /content/random_files/file_105_391.txt with 391 lines.\n",
            "Created /content/random_files/file_106_599.txt with 599 lines.\n",
            "Created /content/random_files/file_107_1444.txt with 1444 lines.\n",
            "Created /content/random_files/file_108_1559.txt with 1559 lines.\n",
            "Created /content/random_files/file_109_1310.txt with 1310 lines.\n",
            "Created /content/random_files/file_110_246.txt with 246 lines.\n",
            "Created /content/random_files/file_111_1944.txt with 1944 lines.\n",
            "Created /content/random_files/file_112_1293.txt with 1293 lines.\n",
            "Created /content/random_files/file_113_2424.txt with 2424 lines.\n",
            "Created /content/random_files/file_114_2123.txt with 2123 lines.\n",
            "Created /content/random_files/file_115_1746.txt with 1746 lines.\n",
            "Created /content/random_files/file_116_1385.txt with 1385 lines.\n",
            "Created /content/random_files/file_117_1947.txt with 1947 lines.\n",
            "Created /content/random_files/file_118_175.txt with 175 lines.\n",
            "Created /content/random_files/file_119_1036.txt with 1036 lines.\n",
            "Created /content/random_files/file_120_1061.txt with 1061 lines.\n",
            "Created /content/random_files/file_121_691.txt with 691 lines.\n",
            "Created /content/random_files/file_122_2154.txt with 2154 lines.\n",
            "Created /content/random_files/file_123_1870.txt with 1870 lines.\n",
            "Created /content/random_files/file_124_561.txt with 561 lines.\n",
            "Created /content/random_files/file_125_1743.txt with 1743 lines.\n",
            "Created /content/random_files/file_126_334.txt with 334 lines.\n",
            "Created /content/random_files/file_127_266.txt with 266 lines.\n",
            "Created /content/random_files/file_128_1514.txt with 1514 lines.\n",
            "Created /content/random_files/file_129_668.txt with 668 lines.\n",
            "Created /content/random_files/file_130_892.txt with 892 lines.\n",
            "Created /content/random_files/file_131_615.txt with 615 lines.\n",
            "Created /content/random_files/file_132_1764.txt with 1764 lines.\n",
            "Created /content/random_files/file_133_1921.txt with 1921 lines.\n",
            "Created /content/random_files/file_134_1016.txt with 1016 lines.\n",
            "Created /content/random_files/file_135_1986.txt with 1986 lines.\n",
            "Created /content/random_files/file_136_173.txt with 173 lines.\n",
            "Created /content/random_files/file_137_2296.txt with 2296 lines.\n",
            "Created /content/random_files/file_138_1890.txt with 1890 lines.\n",
            "Created /content/random_files/file_139_1461.txt with 1461 lines.\n",
            "Created /content/random_files/file_140_306.txt with 306 lines.\n",
            "Created /content/random_files/file_141_686.txt with 686 lines.\n",
            "Created /content/random_files/file_142_921.txt with 921 lines.\n",
            "Created /content/random_files/file_143_1956.txt with 1956 lines.\n",
            "Created /content/random_files/file_144_1473.txt with 1473 lines.\n",
            "Created /content/random_files/file_145_2248.txt with 2248 lines.\n",
            "Created /content/random_files/file_146_15.txt with 15 lines.\n",
            "Created /content/random_files/file_147_1982.txt with 1982 lines.\n",
            "Created /content/random_files/file_148_2336.txt with 2336 lines.\n",
            "Created /content/random_files/file_149_1679.txt with 1679 lines.\n",
            "Created /content/random_files/file_150_970.txt with 970 lines.\n",
            "Created /content/random_files/file_151_2314.txt with 2314 lines.\n",
            "Created /content/random_files/file_152_53.txt with 53 lines.\n",
            "Created /content/random_files/file_153_559.txt with 559 lines.\n",
            "Created /content/random_files/file_154_447.txt with 447 lines.\n",
            "Created /content/random_files/file_155_523.txt with 523 lines.\n",
            "Created /content/random_files/file_156_1331.txt with 1331 lines.\n",
            "Created /content/random_files/file_157_1674.txt with 1674 lines.\n",
            "Created /content/random_files/file_158_736.txt with 736 lines.\n",
            "Created /content/random_files/file_159_1269.txt with 1269 lines.\n",
            "Created /content/random_files/file_160_899.txt with 899 lines.\n",
            "Created /content/random_files/file_161_1527.txt with 1527 lines.\n",
            "Created /content/random_files/file_162_527.txt with 527 lines.\n",
            "Created /content/random_files/file_163_2218.txt with 2218 lines.\n",
            "Created /content/random_files/file_164_1559.txt with 1559 lines.\n",
            "Created /content/random_files/file_165_2068.txt with 2068 lines.\n",
            "Created /content/random_files/file_166_649.txt with 649 lines.\n",
            "Created /content/random_files/file_167_475.txt with 475 lines.\n",
            "Created /content/random_files/file_168_334.txt with 334 lines.\n",
            "Created /content/random_files/file_169_1383.txt with 1383 lines.\n",
            "Created /content/random_files/file_170_2432.txt with 2432 lines.\n",
            "Created /content/random_files/file_171_723.txt with 723 lines.\n",
            "Created /content/random_files/file_172_512.txt with 512 lines.\n",
            "Created /content/random_files/file_173_460.txt with 460 lines.\n",
            "Created /content/random_files/file_174_395.txt with 395 lines.\n",
            "Created /content/random_files/file_175_2203.txt with 2203 lines.\n",
            "Created /content/random_files/file_176_1413.txt with 1413 lines.\n",
            "Created /content/random_files/file_177_1745.txt with 1745 lines.\n",
            "Created /content/random_files/file_178_1745.txt with 1745 lines.\n",
            "Created /content/random_files/file_179_843.txt with 843 lines.\n",
            "Created /content/random_files/file_180_1806.txt with 1806 lines.\n",
            "Created /content/random_files/file_181_1825.txt with 1825 lines.\n",
            "Created /content/random_files/file_182_2089.txt with 2089 lines.\n",
            "Created /content/random_files/file_183_450.txt with 450 lines.\n",
            "Created /content/random_files/file_184_1394.txt with 1394 lines.\n",
            "Created /content/random_files/file_185_828.txt with 828 lines.\n",
            "Created /content/random_files/file_186_2007.txt with 2007 lines.\n",
            "Created /content/random_files/file_187_1820.txt with 1820 lines.\n"
          ]
        }
      ]
    },
    {
      "cell_type": "code",
      "source": [
        "# linecount.py\n",
        "from pathlib import Path\n",
        "from typing import TypeVar, Iterable\n",
        "from mpi4py import MPI\n",
        "import sys\n",
        "import numpy as np\n",
        "\n",
        "PathLike = TypeVar(\"PathLike\", str, Path)\n",
        "\n",
        "comm = MPI.COMM_WORLD\n",
        "rank = comm.Get_rank()\n",
        "n_cores = comm.Get_size()\n",
        "\n",
        "# count the number of lines\n",
        "def count_lines(file_name: Path)->int:\n",
        "  with open(file_name, \"rb\") as f:\n",
        "      num_lines = sum(1 for _ in f)\n",
        "      return num_lines\n",
        "\n",
        "if rank == 0:\n",
        "  folder = \"random_files\"\n",
        "  # search files ending with \".txt\"\n",
        "  def search_txt(path: PathLike|str = None) -> Iterable:\n",
        "      work_path = Path.cwd()\n",
        "      work_dirs = work_path.parts\n",
        "      if path is not None:\n",
        "          dirs = Path(path).parts\n",
        "          if dirs[0] not in work_dirs:\n",
        "              data_path = work_path / path\n",
        "          else:\n",
        "              indx = work_dirs.index(dirs[0])\n",
        "              data_path = Path(*work_dirs[0:indx], *dirs)\n",
        "      else:\n",
        "          data_path = work_path\n",
        "\n",
        "      for full_path in data_path.iterdir():\n",
        "          name = full_path.name\n",
        "          if name.endswith('.txt'):\n",
        "              yield full_path\n",
        "\n",
        "  file_names = list(search_txt(folder))\n",
        "else:\n",
        "  file_names = None\n",
        "\n",
        "file_names = comm.bcast(file_names, root=0)\n",
        "\n",
        "tot_task = len(file_names)\n",
        "tasks_perCore = tot_task//n_cores\n",
        "res_tasks = tot_task%n_cores\n",
        "file_name = file_names[tasks_perCore*rank:tasks_perCore*(rank+1)]\n",
        "\n",
        "if res_tasks and rank<=res_tasks-1:\n",
        "  file_res = file_names[tasks_perCore*n_cores:]\n",
        "  file_name.append(file_res[rank])\n",
        "\n",
        "local_max =  np.zeros(1, dtype=int)\n",
        "glob_max = np.zeros(1, dtype=int)\n",
        "for fi in file_name:\n",
        "  num_line = count_lines(fi)\n",
        "  if num_line>local_max:\n",
        "    local_max[0] = num_line\n",
        "\n",
        "comm.Reduce(local_max, glob_max, op=MPI.MAX, root=0)\n",
        "\n",
        "if rank == 0:\n",
        "  print(f\"The number of lines in the largest file: {glob_max[0]}\")\n"
      ],
      "metadata": {
        "id": "uLkHoflQuoVk"
      },
      "execution_count": null,
      "outputs": []
    },
    {
      "cell_type": "code",
      "source": [
        "!sudo mpirun --allow-run-as-root --oversubscribe -np 8 python linecount.py"
      ],
      "metadata": {
        "colab": {
          "base_uri": "https://localhost:8080/"
        },
        "id": "k2JJbihI1nN8",
        "outputId": "ad3eb8bd-e261-4cb5-807a-338eb720782d"
      },
      "execution_count": 6,
      "outputs": [
        {
          "output_type": "stream",
          "name": "stdout",
          "text": [
            "The number of lines in the largest file: 2472\n"
          ]
        }
      ]
    },
    {
      "cell_type": "markdown",
      "source": [
        "### Problem 3 (2 points)\n",
        "Solve the Distinct Substrings problem at Sphere online judge: http://www.spoj.com/problems/DISUBSTR/. Provide code passing the test of the judge. Explain how your code works and theoretically estimate the complexity of the algorithm (as $O(f(N))$, where $f(N)$ is some function of the length of the input string).\n",
        "\n",
        "\n",
        "###Solution###\n",
        "* Firstly, given a string, the code calculates the suffix array of the string with prefix doubling algorithm, with the complexity of $O(N \\log^2N)$\n",
        "* Secondly, calculate the LCP using the results of the previous step; the complexity of $O(N \\log N)$\n",
        "* Thirdly, calcualte the total number of distinct substrings; the compleixty is $O(N)$\n",
        "\n",
        "So the overall time complexity of the algorithm is  $O(N \\log^2N).$\n",
        "\n",
        "In the first step, it enumerates a complete sets of suffix substrings, so the extra distinct substrings comes from its prefix substrings; each suffix substring can be generated extra L-1 number of prefix substrings, where L-1 is the lengith of prefix substrings, and L-1 is number of the extra distinct substrings can be generated. However, different suffix substrings may have common prefix. By substracting the number of the same prefix, i.e. LCP, and the results can be obtained by summing over all substrings.\n"
      ],
      "metadata": {
        "id": "Ff97HsMhsSOF"
      }
    },
    {
      "cell_type": "code",
      "source": [
        "import numpy as np\n",
        "import random\n",
        "import string\n",
        "\n",
        "def invPerm(p):\n",
        "  '''Invert the permutation p'''\n",
        "  s = np.empty(p.size, p.dtype)\n",
        "  s[p] = np.arange(p.size)\n",
        "  return s\n",
        "\n",
        "\n",
        "def getSA(A):\n",
        "  if not type(A) is np.ndarray:\n",
        "      A = np.array(list(A))\n",
        "  N = len(A)\n",
        "  M = int(np.ceil(np.log2(N)))+1   # number of iterations\n",
        "\n",
        "  # auxiliary arrays; row m stores results after m'th step:\n",
        "\n",
        "  # positions of sorted length-(2**m) sequences in A\n",
        "  P = np.zeros((M,N), dtype=int)\n",
        "\n",
        "  # rank (0, 1, etc.) of sorted length-(2**m) sequences after sorting\n",
        "  Q = np.zeros((M,N), dtype=int)\n",
        "\n",
        "  # rank of sorted length-(2**m) sequences at its starting position in A;\n",
        "  # padded by 0 on the right\n",
        "  R = np.zeros((M,3*N), dtype=int)\n",
        "\n",
        "  for k in range(M):\n",
        "      if k == 0:\n",
        "          P[0] = np.argsort(A)\n",
        "          Q[0][1:] = np.cumsum(A[P[0]][1:] != A[P[0]][:-1])\n",
        "          R[0][:N] = Q[0][invPerm(P[0])]\n",
        "      else:\n",
        "          offset = 2**(k-1)\n",
        "          r = np.lexsort((R[k-1, P[k-1]+offset], R[k-1, P[k-1]]))\n",
        "          P[k] = P[k-1][r]\n",
        "          # k'th rank increases iff (k-1)'th rank increases at least for one element of the pair\n",
        "          Q[k][1:] = np.cumsum(np.logical_or(R[k-1][P[k]][1:] != R[k-1][P[k]][:-1],\n",
        "                                        R[k-1][P[k]+offset][1:] != R[k-1][P[k]+offset][:-1]))\n",
        "          R[k][:N] = Q[k][invPerm(P[k])]\n",
        "\n",
        "          # early stopping if suffixes already fully sorted (max rank is N-1)\n",
        "          if Q[k][-1] == N-1:\n",
        "              break\n",
        "\n",
        "  SA = P[k]\n",
        "  return SA, P[:k+1], Q[:k+1], R[:k+1]\n",
        "\n",
        "\n",
        "def getLCP(SA, R):\n",
        "  (M, N) = R.shape\n",
        "  LCP = np.zeros((len(SA)-1,),dtype=int)\n",
        "  for m in range(M-1)[::-1]:\n",
        "      t = (R[m][SA[1:]+LCP] == R[m][SA[:-1]+LCP]).astype(int)\n",
        "      LCP += (2**m)*t\n",
        "  return LCP\n",
        "\n",
        "\n",
        "\n",
        "def generate_random_string(length):\n",
        "  \"\"\"Generate a random string of fixed length.\"\"\"\n",
        "  letters = string.ascii_uppercase\n",
        "  return ''.join(random.choice(letters) for _ in range(length))\n",
        "\n",
        "\n",
        "def generate_testSet(num_cases):\n",
        "  for case_i in range(num_cases):\n",
        "      yield generate_random_string(str_len)\n",
        "\n",
        "\n",
        "if __name__ == \"__main__\":\n",
        "\n",
        "  str_len = random.randint(1,1000)\n",
        "  num_cases = 3\n",
        "  testSet = generate_testSet(num_cases)\n",
        "\n",
        "  for ii, A in enumerate(testSet):\n",
        "      tot_num = 0\n",
        "      L = len(A)\n",
        "      SA, _, _, R = getSA(A)\n",
        "      LCP = getLCP(SA, R)\n",
        "      LCP = np.insert(LCP, 0, 0)\n",
        "      for i in range(L):\n",
        "          l = L - SA[i]\n",
        "          tot_num += l - LCP[i]\n",
        "\n",
        "      print(\"***********************\")\n",
        "      print(f\"The string of CASE {ii} is: {A}\")\n",
        "      print(f\"The total number of distinct substring of CASE {ii} is: {tot_num}\")\n",
        "      print(\"\\n\")\n"
      ],
      "metadata": {
        "id": "tP-S_nresncy",
        "colab": {
          "base_uri": "https://localhost:8080/"
        },
        "outputId": "27ae990a-e358-4a02-d1a8-b9903842a689"
      },
      "execution_count": 1,
      "outputs": [
        {
          "output_type": "stream",
          "name": "stdout",
          "text": [
            "***********************\n",
            "The string of CASE 0 is: IOBBIFFSZLMJOICGHBBNFZYGUSBKOVBPDRRNUJRNIOUZZANKCBTUHRLBALMGFCFCTBMWVYNLDNHXUKMRJHJSBZNTJHUPOANPBEUWEXUOPOCTQFVTTRBBZNIPOFZKTBKZFAJZZTLXPJIUSVZVORYMNKVLZBXJOMDVPGLLTCYHKLCNRHAJSIDHDCANBZMDCXEDYWRSTNLGNSDXZCVKEDRJWERZYGBQLVLTLUNRFGMQYIRCZLCNIORKENTVGAKSYYWIRUIGJIIMCLAQOJEJZZDTXIOJXTLAIWCDEHRJUBPXUFJSNKEPASWNWVOXJPXQDRSVGVRBKLZIXGYYGEXZMYRVEMTDOCTUJRUDEXXQLBEXTUFFWZRDDPNXLCHDEWPDGUQAZHPONRUZSFYBZTXYKGUUUYCMZTYIMLQYTKTXTYKDDEMWGAURQVUNMHVTVOJCSBCXUJFJQKLIYIBOICLCWRQYAWTAAWAMJSPBWKIXTOKGFFQBYBCYZXFZIJKXCMQHKWKNKAKANOZBFIQZLHSWKFMUCEFOXCQEUGTAXVJMQVWYDAMUHFLEJOPVOWHKNJLASAPBGZKMQNYEKCCFVYVNBORRPGAAWTRMPZBCSFIVAWZGIXVDVXVTEKMOXVEIMCYISZUWWJFKHAAOGKNSDXTMXFFLXFIPDYUEQBOLDORPHZXNBUHCRRMYRKIJOMXWZFLHEGZEPFLZSYZGPGCHGTVVQAINJEMSZXZNKNUJPSKISKCVJPEDASDIACZMWDDACKARLXBHZMJUOUIPAAIHHPUPABDIHNTCLQLDRCHETNYQXPPLSXJNAEFGOQDDDOEREGVFOLVQSRQXNUIBMOHNIMJWJZSTBBYAQJGVISIDDOHYQLSCVGEWQNOKURPMXYZDCYNAJXUYXJYISJLHA\n",
            "The total number of distinct substring of CASE 0 is: 408647\n",
            "\n",
            "\n",
            "***********************\n",
            "The string of CASE 1 is: SPAXSNUQVQJHLWWESZSVFJWUGNTLRIHRQEBEVJLNONTAYOJHYIJUKFBAXXMVXDNWNFZLXKJPNIXREQXWFMLVFNLQRDGYPUMQNNKWELMWSPTKSBYROPZXFIVRHCHBOHAHIULDAMDZKJLHRWITYGFADJLETNGWTVPYPIRVHTYCHOGNGYXXQPQKPPRSGVCSCALFDMUBGQXCWETTKAWAJYTNLFUAFBXGTGLMLXAWLHCHXHQEQQWJOZKNKUKSNBKVGUHIRBUOSVXNZCTNQXGIUOTTNPUHNEQLPRFYGCAEYLUPZMXWFYPDIRAJBUNHFREEKYASXKTLQAPEUYMZOGLJQICCLQMTVNVUWNAWCLVKLEPACRHVDMXTVZWPJUQRFJMRVAKPTFIJQWAFDAJNBNIGADDICXAYULGHKOVDYHBWWXKUBILGLTLBHGYDSJHCTKTFSEZSZFYQSAILFYFPSYODDCHSNJQBRPRJAWBJYGBYTHWPQOKXVIIIKGSPVHBFHKPHQZUDALOZCFBKOBFINOXMNHYQJEZKOJMYOVUJJCGQZUSNUBZRCWMIMVAIBIYYEVUAFOIMLIJQLLDPMDACSTVAZQZKEKDOPUJVGZNNOUYTATQLKTNXTMATDXBEELIWXKGNSSPEVAPNVXZAPCUFQLWGDELHABEKMEQATORTJCXMJIJVLJMBXZRRXPKTJTOTNOKWKZPUVWRZEAKRJIEZLHKXAABLMJYULXVMMESMHHEDNNCQGROMZMHKGUICWMGIMLYXYVZDSIJDFWUKPNPYOCHHWKGBKFJEKFINMCZGMWOPCLKJDZKZXSYSVQCYQTVNGXMKPDJEQKZRXGHGQGZHBRVXJRIUIOLVHGRQOJFFAZJODQHCUZMGXHGPKQLQVAUGLRIGUEHTYVEKADYTM\n",
            "The total number of distinct substring of CASE 1 is: 408668\n",
            "\n",
            "\n",
            "***********************\n",
            "The string of CASE 2 is: UDLIFXNASCYAXCHMGJNLALBYVMDHOQJYPQONCAKZHIJZQXHUSVBGQGYLEGCRSVWUUWCWDJKALMFROHCMMICKLCLOSWLREKMQYYKCPGBPBSYTYEAWTDTANOATJPSQGWGZHOCYPMKRNMEGOYUXSSIOFDYEPQQPRGUIFTWYNTEXMYENNXVERDEFWZSAQUVOQIYJRZBIHIFVWTLJIDHQNIWLGYUPAWABQTQOTWDIZQQLTDRIVKFSWDNGIHRTKANWDPSLCMDLSACXKKIQJWNPRKPXDKTIOVANOMFKMPMRXMAYYWGBWJXJMHWCDCQLLHEJHTCMUAMMUJDKYDHBDPTCLXKRGDRZSNASNWUVTHSOLCRMPNAZNIZKFYGSUQENWZEOHREUUQCLUQMONEDIFJSAMGIDERSYYCMLPEMSJHPYEPEXEQZIMTOYTFQEOFVAWMATZYBQXPKLYPBMUAMSEIDKOPXNFUEBFHCTBYRXUEFQKUUUMRIZNCCBNIYMBNKMHUSKZGXTYDTWKVLDQJIFKYPCTEJLJGZBLSSZEXJYLLKKPNTYZQXFEMDRTIBKAMIIZRDLHTYDZYCGHMHXLFXYOPHMEEHCYRQXJNUZDMNLVKSOQMHJLRATJUHCXCJYBBOWFBWHBHPIISMYXVAUHFZVXNBUFJWXNQZGZXYFYDMRRLZHKKMIBQGLIUAWOZCQXUROCXASRHDDLJJQAWAJZPOLBEJIPGDJAGTYMFMMJWOTDVTIDATDJKPELQAINUCADUBFZJGJWAYMISUGMSNEHWOJWITXBXWHOJSPGTMPSBCBWKYHTXFXUGYDBRLVVBYHXJMYXAQCQRBYCNBYLHRSIKRNILFJPPDIEDOQBIZGIFVWKVGQMYGNWBFTJHUNVDBDOWGQPFPHWDVQGXOCUGRJE\n",
            "The total number of distinct substring of CASE 2 is: 408664\n",
            "\n",
            "\n"
          ]
        }
      ]
    },
    {
      "cell_type": "markdown",
      "source": [
        "### Problem 4 (2 points)\n",
        "Suppose that we want to distribute $N$ personal projects to $N$ students. Assume that each student $(k)_{k=0}^{N-1}$ has a list of his/her preferences for the projects, expressed as a vector $\\mathbf r_k$ of integer ranks assigned to each project. Ranks vary between 0 and $N-1$ without repetitions, the **lower** the rank the **more preferable** the project. (For example, the first student's ranks are $\\mathbf r_0 = [2,1,0]$, the second's $\\mathbf r_1 = [0,2,1]$ and the third $\\mathbf r_2 = [0,1,2]$). We want to distribute the projects so as to maximize the total preference, i.e., if $n_k$ denotes the project assigned to the $k$'th student, we want to make $f = \\sum_{k=0}^{N-1} \\mathbf r_k[n_k]$ as small as possible. (In the example above the optimal distribution is $n_0=2, n_1=0, n_2=1$, which gives $f=1$).  \n",
        "  * Come up with an algorithm optimizing the distribution and implement it in a Python or C/C++ program. The algorithm should accept the preference vectors and output a recommended distribution $(n_k)_{k=1}^N$. The algorithm need not find the best solution, but is expected to generally produce better solutions than would have been obtained by randomly distributing the projects. The algorithm should be reasonably fast, say run in not more than a few seconds for $N=30$.\n",
        "  * Compare experimentally your algorithm with the trivial algorithm producing a random distribution. To this end, perform $M=1000$ experiments in each of which 1) random preference vectors for $N=30$ students and projects are generated; 2) the objective function $f$ is evaluated for both algorithms. After finishing all the experiments, plot the two respective distributions of the obtained $M$ values of $f$ and compute the mean values of $f$ for both algorithms.\n",
        "  "
      ],
      "metadata": {
        "id": "g8yVlPdDsZ5E"
      }
    },
    {
      "cell_type": "markdown",
      "source": [
        "### Solution:\n",
        "To define a cost matrix for the assignment problem:\n",
        "\n",
        "$ C = \\begin{equation}\n",
        "\\begin{pmatrix}\n",
        "  \\textbf{r}_0  \\\\\n",
        "  \\textbf{r}_1  \\\\\n",
        "  \\vdots        \\\\\n",
        "  \\textbf{r}_{N-1} \\\\\n",
        "\\end{pmatrix}\n",
        "\\end{equation}\n",
        "\\textbf{I}$ = $\\begin{equation}\n",
        "\\begin{pmatrix}\n",
        "  \\textbf{r}_0  \\\\\n",
        "  \\textbf{r}_1  \\\\\n",
        "  \\vdots        \\\\\n",
        "  \\textbf{r}_{N-1} \\\\\n",
        "\\end{pmatrix}\n",
        "\\end{equation}$=\n",
        "$\n",
        "\\begin{equation}\n",
        "\\begin{pmatrix}\n",
        "  r_{0,0}       & r_{0,1}   & r_{0,2}   & \\cdots  & r_{0,N-1}  \\\\\n",
        "  r_{1,0}       & r_{1,1}   & r_{1,2}   & \\cdots  & r_{1,N-1}  \\\\\n",
        "  \\vdots  & \\vdots  & \\vdots  & \\ddots  & \\vdots \\\\\n",
        "  r_{N-1,0}       & r_{N-1,1}   & r_{N-1,2}   & \\cdots  & r_{N-1,N-1}  \\\\\n",
        "\\end{pmatrix}\n",
        "\\end{equation}\n",
        "$\n",
        "\n",
        "Let,\n",
        "* $n_{ij} = 1$ reprents $j^{th}$ project assigned to $i^{th}$ student\n",
        "* $n_{ij} = 0$ reprents $j^{th}$ project not assigned to $i^{th}$ student\n",
        "\n",
        "The loss function can be written,\n",
        "\n",
        "$$f=\\sum_{k=0}^{N-1} \\mathbf r_k \\mathbf n_k=\\sum_{i=0}^{N-1} \\sum_{j=0}^{N-1}r_{ij}n_{ij}$$\n",
        "\n",
        "where $n_{ij}=\\{0,1\\}$, and subjects to,\n",
        "\n",
        "$$\\sum_{i=0}^{N-1} n_{ij} = 1 $$ $$\\sum_{j=0}^{N-1} n_{ij} = 1 $$\n",
        "\n",
        "To solve\n",
        "\n",
        "$\\underset{n_{ij}}{\\mathrm{argmin}} f$\n"
      ],
      "metadata": {
        "id": "OjEMdm4tpRNs"
      }
    },
    {
      "cell_type": "markdown",
      "source": [],
      "metadata": {
        "id": "LL_uTe6lpOXC"
      }
    },
    {
      "cell_type": "code",
      "source": [
        "import numpy as np\n",
        "import time\n",
        "from itertools import permutations\n",
        "from scipy.optimize import linear_sum_assignment\n",
        "\n",
        "\n",
        "# # brute force method\n",
        "\n",
        "# def project_Machine(r, N):\n",
        "#   indicators = np.eye(N, dtype=np.int32)\n",
        "#   ps = list(permutations(range(N)))\n",
        "#   identifier = None\n",
        "#   min = N**2\n",
        "#   for i, ps_i in enumerate(ps):\n",
        "#       assign = indicators[:,ps_i]\n",
        "#       penalty = np.sum(assign*r)\n",
        "#       if penalty < min:\n",
        "#           min = penalty\n",
        "#           identifier = i\n",
        "#   return min, ps[identifier]\n",
        "\n",
        "\n",
        "# def invPerm(p):\n",
        "#   '''Invert the permutation p'''\n",
        "#   s = np.empty(p.size, p.dtype)\n",
        "#   s[p] = np.arange(p.size)\n",
        "#   return s\n",
        "\n",
        "\n",
        "# # test 1\n",
        "# # preferable rank\n",
        "# N = 3\n",
        "# r0 = np.array([2, 1, 0], dtype=np.int32)\n",
        "# r1 = np.array([0, 2, 1], dtype=np.int32)\n",
        "# r2 = np.array([0, 1, 2], dtype=np.int32)\n",
        "# r = np.array([r0, r1, r2])\n",
        "# t1 = time.perf_counter()\n",
        "# f, dist = project_Machine(r, N)\n",
        "# t2 = time.perf_counter()\n",
        "# brute force method\n",
        "# print(f\"The minimum penalty f={f}\")\n",
        "# print(f\"The optimal distribution: {invPerm(np.array(dist))}\")\n",
        "# print(f\"Calculation time: {t2-t1}\")\n",
        "\n",
        "# # test 2\n",
        "# number of students/projects\n",
        "N = 30\n",
        "# generate cost matrix\n",
        "r = np.array([np.random.permutation(N).tolist() for _ in range(N)])\n",
        "\n",
        "t1 = time.perf_counter()\n",
        "row_ind, col_ind = linear_sum_assignment(r)\n",
        "# cost function\n",
        "f = r[row_ind, col_ind].sum()\n",
        "t2 = time.perf_counter()\n",
        "print(f\"The minimum penalty f={f}\")\n",
        "print(f\"The student index: {row_ind}\")\n",
        "print(f\"The project index: {col_ind}\")\n",
        "print(f\"Calculation time: {t2-t1}\")\n",
        "\n",
        "\n"
      ],
      "metadata": {
        "colab": {
          "base_uri": "https://localhost:8080/"
        },
        "id": "_ucb8RoZ-Hy_",
        "outputId": "b48bfffc-fe30-4b50-9ae4-d7d8c9f95836"
      },
      "execution_count": 7,
      "outputs": [
        {
          "output_type": "stream",
          "name": "stdout",
          "text": [
            "The minimum penalty f=32\n",
            "The student index: [ 0  1  2  3  4  5  6  7  8  9 10 11 12 13 14 15 16 17 18 19 20 21 22 23\n",
            " 24 25 26 27 28 29]\n",
            "The project index: [ 7 15 27 10  0 14  5 19 26 20 13  6 16  1  8 24 29  3 25 23 17  2 28 11\n",
            " 21 12  4  9 22 18]\n",
            "Calculation time: 0.00034664100166992284\n"
          ]
        }
      ]
    },
    {
      "cell_type": "code",
      "source": [
        "from matplotlib import pyplot as plt\n",
        "\n",
        "# naive random method\n",
        "def rand_pick(r, N):\n",
        "  penalty=0\n",
        "  l = np.arange(N,dtype=np.int32)\n",
        "  rd_ind = np.random.permutation(l)\n",
        "  for indi, ri in enumerate(r):\n",
        "    penalty+=ri[rd_ind[indi]]\n",
        "  return penalty\n",
        "\n",
        "\n",
        "# experiment\n",
        "M =1000\n",
        "N=30\n",
        "\n",
        "f_tri = []\n",
        "f_sci = []\n",
        "for _ in range(M):\n",
        "  costMatrix = np.array([np.random.permutation(N).tolist() for _ in range(N)])\n",
        "  row_ind, col_ind = linear_sum_assignment(costMatrix)\n",
        "  f1 = costMatrix[row_ind, col_ind].sum()\n",
        "  f_sci.append(f1)\n",
        "  f2 = rand_pick(costMatrix,N)\n",
        "  f_tri.append(f2)\n",
        "\n",
        "mean_sci = np.array(f_sci).mean()\n",
        "mean_tri = np.array(f_tri).mean()\n",
        "\n",
        "fig, ax1 = plt.subplots(1, 1)\n",
        "ax1.plot(f_sci,'g-',linewidth=1, label=\"scipy\")\n",
        "ax1.plot(f_tri,'b-',linewidth=1, label=\"trival\")\n",
        "ax1.legend()\n",
        "ax1.set_ylabel(\"f\")\n",
        "ax1.set_xlabel(\"M\")\n",
        "\n",
        "print(\"\\n\")\n",
        "print(f\"Mean value of objective function f with scipy linear programming solver: {mean_sci}\")\n",
        "print(f\"Mean value of objective function f with random assignment solver: {mean_tri}\")\n",
        "print(\"\\n\")"
      ],
      "metadata": {
        "colab": {
          "base_uri": "https://localhost:8080/",
          "height": 551
        },
        "id": "MXHPy_YoI7Si",
        "outputId": "46ca97f1-608d-4649-a308-dd7e2bc17902"
      },
      "execution_count": 17,
      "outputs": [
        {
          "output_type": "stream",
          "name": "stdout",
          "text": [
            "\n",
            "\n",
            "Mean value of objective function f with scipy linear programming solver: 22.851\n",
            "Mean value of objective function f with random assignment solver: 435.615\n",
            "\n",
            "\n"
          ]
        },
        {
          "output_type": "display_data",
          "data": {
            "text/plain": [
              "<Figure size 640x480 with 1 Axes>"
            ],
            "image/png": "[encoded data removed]"
          },
          "metadata": {}
        }
      ]
    },
    {
      "cell_type": "markdown",
      "source": [
        "### Problem 5 (2 points)\n",
        "Suppose that we have developed an algorithm that is supposed to generate independent (quasi-)random numbers uniformly distributed in the interval $[0,1]$. To test our algorithm, we perform a series of experiments. In each experiment, we generate $N=10^3$ numbers $(x_n)_{n=1}^N$ with our algorithm, and compute the minimum distance $r=\\min_{1 \\le n < m\\le N}|x_n-x_m|$ between them. We observe that in more than 99% of such experiments we obtain $r < 10^{-5}$. Does this observation contradict the hypothesis of generating independent uniformly distributed random numbers? Explain your answer."
      ],
      "metadata": {
        "id": "wT9tnNA4TEk_"
      }
    },
    {
      "cell_type": "markdown",
      "source": [
        "#### solution\n",
        "No, this observation doesn't contradict the hypothesis of generating independent uniformaly distributed random numbers. According to the theory, two uniformally distributed random variables, their minimum distance $r$ following poisson distribution $\\approx exp(-r)$\n",
        "\n"
      ],
      "metadata": {
        "id": "pECuP6x9p7oc"
      }
    },
    {
      "cell_type": "code",
      "source": [
        "import numpy as np\n",
        "\n",
        "# generate the minimum distance\n",
        "def generator(N: int)->float:\n",
        "  rv = np.random.uniform(0,1,N)\n",
        "  rv_sorted = np.sort(rv)\n",
        "  delta = rv_sorted[1:] - rv_sorted[:-1]\n",
        "  return delta.min()\n",
        "\n",
        "# generating an array of the minimum distance\n",
        "def occurence(N: int, M: int, repeat: int)->tuple[list, list]:\n",
        "  r_min = 10**-5\n",
        "  occur=[]\n",
        "  delta=[]\n",
        "  for _ in range(repeat):\n",
        "    count=0.0\n",
        "    for _ in range(M):\n",
        "      delta_min = generator(N)\n",
        "      delta.append(delta_min)\n",
        "      if delta_min < r_min:\n",
        "        count+=1.0\n",
        "    occur.append(count/M)\n",
        "\n",
        "  return occur, delta"
      ],
      "metadata": {
        "id": "7nxSF286TFAT"
      },
      "execution_count": 104,
      "outputs": []
    },
    {
      "cell_type": "code",
      "source": [
        "from matplotlib import pyplot as plt\n",
        "\n",
        "# experiment\n",
        "N = 10**3 # number of Uniform distribution points\n",
        "M = 2000  # number of uniform distributions points list\n",
        "repeat = 50 # repeat the experiment 50 times\n",
        "occ, delta = occurence(N, M, repeat)\n",
        "\n",
        "\n",
        "x = range(repeat)\n",
        "\n",
        "\n",
        "fig1, ax1 = plt.subplots(1, 1)\n",
        "ax1.plot(x, occ, 'go',linewidth=1)\n",
        "ax1.plot(x, [0.99 for _ in x], 'r-',linewidth=1)\n",
        "ax1.set_ylabel(r\"$P(r<10^-5)$\")\n",
        "ax1.set_xlabel(\"Experiment Number\")\n",
        "plt.ylim([0.95,1])\n",
        "\n",
        "\n",
        "fig2, ax2 = plt.subplots(1, 1)\n",
        "ax2.hist(delta, bins=(10**-7)*np.arange(50))\n",
        "\n",
        "ax2.set_xlabel(\"$r$\")\n",
        "ax2.set_ylabel(r\"frequency\")\n"
      ],
      "metadata": {
        "colab": {
          "base_uri": "https://localhost:8080/",
          "height": 904
        },
        "id": "JBMKY76b0r0t",
        "outputId": "ce0213cb-bc3f-49ec-8faa-c99c9030373d"
      },
      "execution_count": 134,
      "outputs": [
        {
          "output_type": "execute_result",
          "data": {
            "text/plain": [
              "Text(0, 0.5, 'frequency')"
            ]
          },
          "metadata": {},
          "execution_count": 134
        },
        {
          "output_type": "display_data",
          "data": {
            "text/plain": [
              "<Figure size 640x480 with 1 Axes>"
            ],
            "image/png": "[encoded data removed]"
          },
          "metadata": {}
        },
        {
          "output_type": "display_data",
          "data": {
            "text/plain": [
              "<Figure size 640x480 with 1 Axes>"
            ],
            "image/png": "[encoded data removed]"
          },
          "metadata": {}
        }
      ]
    },
    {
      "cell_type": "code",
      "source": [],
      "metadata": {
        "id": "Uf68LQBEdMj-"
      },
      "execution_count": null,
      "outputs": []
    }
  ]
}